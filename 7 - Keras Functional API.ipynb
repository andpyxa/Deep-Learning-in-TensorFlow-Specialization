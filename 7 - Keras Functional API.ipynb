{
 "cells": [
  {
   "cell_type": "markdown",
   "metadata": {},
   "source": [
    "<img src=\"https://firebasestorage.googleapis.com/v0/b/deep-learning-crash-course.appspot.com/o/Logo.png?alt=media&token=06318ee3-d7a0-44a0-97ae-2c95f110e3ac\" width=\"100\" height=\"100\" align=\"right\"/>"
   ]
  },
  {
   "cell_type": "markdown",
   "metadata": {},
   "source": [
    "## 7 Keras Functional API"
   ]
  },
  {
   "cell_type": "markdown",
   "metadata": {},
   "source": [
    "## 7.1 Introduction\n"
   ]
  },
  {
   "cell_type": "markdown",
   "metadata": {},
   "source": [
    "<img src=\"https://firebasestorage.googleapis.com/v0/b/deep-learning-crash-course.appspot.com/o/1Keras.png?alt=media&token=9f4add09-14d3-49ed-bc11-f0497f6e96f1\" width=\"200\" height=\"200\" align=\"right\"/>"
   ]
  },
  {
   "cell_type": "markdown",
   "metadata": {},
   "source": [
    "<font size=\"3\">**Keras is a simple tool for constructing a neural network. It is a high-level API of TensorFlow 2:**</font> \n",
    "\n",
    "> <font size=\"3\">**an approachable, highly-productive interface for solving machine learning problems, with a focus on modern deep learning.**</font>\n",
    "\n",
    "<font size=\"3\">**The core data structures of Keras are layers and models.**</font>\n",
    "\n",
    "> <font size=\"3\">**The simplest type of model is the <span style=\"color:#4285F4\">Sequential model</span>, a linear stack of layers.**</font>\n",
    "\n",
    "> <font size=\"3\">**For more complex architectures, the Keras <span style=\"color:#4285F4\">Functional API</span> should be used, which allows to build arbitrary graphs of layers, or write models entirely from scratch.**</font> "
   ]
  },
  {
   "cell_type": "markdown",
   "metadata": {},
   "source": [
    "<font size=\"3\">**The Keras <span style=\"color:#4285F4\">Functional API</span> is a way to create models that are more flexible than the <span style=\"background-color: #ECECEC; color:#0047bb\">tf.keras.Sequential</span> API. The functional API can handle models with <span style=\"color:#4285F4\">non-linear topology</span>, <span style=\"color:#4285F4\">shared layers</span>, and even <span style=\"color:#4285F4\">multiple inputs or outputs</span>.**</font>\n",
    "\n",
    "<font size=\"3\">**The main idea is that a deep learning model is usually a directed acyclic graph (DAG) of layers. So the functional API is a way to build <span style=\"color:#4285F4\">graphs of layers</span>.**</font>"
   ]
  },
  {
   "cell_type": "markdown",
   "metadata": {},
   "source": [
    "<img src=\"https://firebasestorage.googleapis.com/v0/b/deep-learning-crash-course.appspot.com/o/7API1.png?alt=media&token=d17f0ff4-bca3-4e05-b09d-842406dde2c0\" width=\"1000\" align=\"center\"/>"
   ]
  },
  {
   "cell_type": "markdown",
   "metadata": {},
   "source": [
    "## 7.2 Build a Neural Network with Functional API"
   ]
  },
  {
   "cell_type": "markdown",
   "metadata": {},
   "source": [
    "### Introduction - Classify images of clothing"
   ]
  },
  {
   "cell_type": "markdown",
   "metadata": {},
   "source": [
    "<font size=\"3\">**This exercise trains a neural network model to classify images of clothing, like sneakers and shirts.**</font>\n",
    "<font size=\"3\">**It uses <span style=\"background-color: #ECECEC; color:#0047bb\">tf.keras</span> <span style=\"color:#4285F4\">Functional API</span> to build and train models in TensorFlow.**</font>"
   ]
  },
  {
   "cell_type": "markdown",
   "metadata": {},
   "source": [
    "### <font color='#176BEF'> Examples </font>\n",
    "<hr style=\"border:2px solid #E1F6FF\"> </hr>"
   ]
  },
  {
   "cell_type": "code",
   "execution_count": 2,
   "metadata": {},
   "outputs": [],
   "source": [
    "# TensorFlow and tf.keras\n",
    "import tensorflow as tf\n",
    "\n",
    "from tensorflow import keras\n",
    "from tensorflow.keras import layers\n",
    "\n",
    "# Helper libraries\n",
    "import numpy as np\n",
    "import matplotlib.pyplot as plt"
   ]
  },
  {
   "cell_type": "markdown",
   "metadata": {},
   "source": [
    "### <font color='#34A853'>Import images from Fashion MNIST</font>\n",
    "<hr style=\"border:2px solid ##34A853\"> </hr>"
   ]
  },
  {
   "cell_type": "markdown",
   "metadata": {},
   "source": [
    "<font size=\"3\">**The classic MNIST dataset is often used as the \"Hello, World\" of machine learning programs for computer vision. [Fashion MNIST](https://github.com/zalandoresearch/fashion-mnist) is intended to serve as a direct drop-in replacement for the original MNIST dataset for benchmarking machine learning algorithms.**</font>\n",
    "\n",
    "<font size=\"3\">**Fashion MNIST is a slightly more challenging problem than the classic MNIST. Instead of classifying the handwritten digits (0, 1, 2, etc.), it focuses on clothings.**</font>\n",
    "\n",
    "<font size=\"3\">**In the Fashion MNIST dataset, it contains 70,000 grayscale images in 10 categories.**</font>\n",
    "\n",
    "<table align=\"left\">\n",
    "    <tr>\n",
    "        <td><b>Label</b></td>\n",
    "        <td><b>Description</b></td>\n",
    "    </tr>\n",
    "    <tr>\n",
    "        <td>0</td>\n",
    "        <td>T-shirt/top</td>\n",
    "    </tr>\n",
    "    <tr>\n",
    "        <td>1</td>\n",
    "        <td>Trouser</td>\n",
    "    </tr>\n",
    "    <tr>\n",
    "        <td>2</td>\n",
    "        <td>Pullover</td>\n",
    "    </tr>\n",
    "    <tr>\n",
    "        <td>3</td>\n",
    "        <td>Dress</td>\n",
    "    </tr>\n",
    "    <tr>\n",
    "        <td>4</td>\n",
    "        <td>Coat</td>\n",
    "    </tr>\n",
    "    <tr>\n",
    "        <td>5</td>\n",
    "        <td>Sandal</td>\n",
    "    </tr>\n",
    "    <tr>\n",
    "        <td>6</td>\n",
    "        <td>Shirt</td>\n",
    "    </tr>\n",
    "    <tr>\n",
    "        <td>7</td>\n",
    "        <td>Sneaker</td>\n",
    "    </tr>\n",
    "    <tr>\n",
    "        <td>8</td>\n",
    "        <td>Bag</td>\n",
    "    </tr>\n",
    "    <tr>\n",
    "        <td>9</td>\n",
    "        <td>Ankle boot</td>\n",
    "    </tr>\n",
    "</table>"
   ]
  },
  {
   "cell_type": "markdown",
   "metadata": {},
   "source": [
    "<font size=\"3\">**Each example is a 28x28 grayscale image. Here's an example of how the data looks (each class takes three-rows).**</font>\n",
    "<table align=\"left\">\n",
    "    <tr>\n",
    "        <td><img src=\"https://firebasestorage.googleapis.com/v0/b/deep-learning-crash-course.appspot.com/o/3NNExercise1.png?alt=media&token=98376c1a-735a-402a-a11e-1b102ac2aef6\" width=\"650\"/></td>\n",
    "        <td><img src=\"https://firebasestorage.googleapis.com/v0/b/deep-learning-crash-course.appspot.com/o/3NNExercise2.gif?alt=media&token=a935c255-c75a-467b-b280-39c24a411024\" width=\"700\"/></td>\n",
    "    </tr>\n",
    "</table>\n",
    "<br>\n",
    "<br>\n",
    "<br>\n",
    "\n",
    "Reference: https://github.com/zalandoresearch/fashion-mnist"
   ]
  },
  {
   "cell_type": "markdown",
   "metadata": {},
   "source": [
    "<font size=\"3\">**The Fashion MNIST data can be imported and loaded directly from TensorFlow.**</font>\n",
    "\n",
    "<font size=\"3\">**The dataset contains 60,000 28x28 grayscale images of 10 fashion categories, along with a test set of 10,000 images.**</font>\n",
    "\n",
    "<font size=\"3\">**<span style=\"background-color: #ECECEC; color:#0047bb\">tf.keras.datasets.fashion_mnist.load_data()</span> returns four numpy arrays:**</font>\n",
    "\n",
    "><font size=\"3\">**<span style=\"color:#4285F4\">train_images</span> is a numpy array of grayscale image data with shapes <span style=\"color:#4285F4\">(60000, 28, 28)</span>, containing the training data.**</font>\n",
    "\n",
    "><font size=\"3\">**<span style=\"color:#4285F4\">train_labels</span> is a numpy array of labels (integers in range 0-9) with shape <span style=\"color:#4285F4\">(60000,)</span> for the training image.**</font>\n",
    "\n",
    "><font size=\"3\">**<span style=\"color:#4285F4\">test_images</span> is a numpy array of grayscale image data with shapes <span style=\"color:#4285F4\">(10000, 28, 28)</span>, containing the test data.**</font>\n",
    "\n",
    "><font size=\"3\">**<span style=\"color:#4285F4\">test_labels</span> is a numpy array of labels (integers in range 0-9) with shape <span style=\"color:#4285F4\">(10000,)</span> for the test image.**</font>"
   ]
  },
  {
   "cell_type": "code",
   "execution_count": 2,
   "metadata": {},
   "outputs": [],
   "source": [
    "fashion_mnist = tf.keras.datasets.fashion_mnist\n",
    "\n",
    "(train_images, train_labels), (test_images, test_labels) = fashion_mnist.load_data()"
   ]
  },
  {
   "cell_type": "markdown",
   "metadata": {},
   "source": [
    "<font size=\"3\">**The images are stored in 28x28 numpy arrays, with pixel values ranging from 0 to 255. The labels are an array of integers, ranging from 0 to 9. Their corresponding class names can be stored in a list.**</font>"
   ]
  },
  {
   "cell_type": "code",
   "execution_count": 3,
   "metadata": {},
   "outputs": [],
   "source": [
    "class_names = ['T-shirt/top', \n",
    "               'Trouser', \n",
    "               'Pullover', \n",
    "               'Dress', \n",
    "               'Coat', \n",
    "               'Sandal', \n",
    "               'Shirt', \n",
    "               'Sneaker', \n",
    "               'Bag', \n",
    "               'Ankle boot']"
   ]
  },
  {
   "cell_type": "markdown",
   "metadata": {},
   "source": [
    "### <font color='#34A853'>Explore the data</font>\n",
    "<hr style=\"border:2px solid ##34A853\"> </hr>"
   ]
  },
  {
   "cell_type": "markdown",
   "metadata": {},
   "source": [
    "<font size=\"3\">**Shapes of training and test images**</font>"
   ]
  },
  {
   "cell_type": "code",
   "execution_count": 4,
   "metadata": {},
   "outputs": [
    {
     "name": "stdout",
     "output_type": "stream",
     "text": [
      "The shape of training images is: (60000, 28, 28)\n",
      "The shape of training labels is: (60000,)\n"
     ]
    }
   ],
   "source": [
    "print(\"The shape of training images is:\", train_images.shape)\n",
    "print(\"The shape of training labels is:\", train_labels.shape)"
   ]
  },
  {
   "cell_type": "code",
   "execution_count": 5,
   "metadata": {},
   "outputs": [
    {
     "name": "stdout",
     "output_type": "stream",
     "text": [
      "The shape of test images is: (10000, 28, 28)\n",
      "The shape of test labels is: (10000,)\n"
     ]
    }
   ],
   "source": [
    "print(\"The shape of test images is:\", test_images.shape)\n",
    "print(\"The shape of test labels is:\", test_labels.shape)"
   ]
  },
  {
   "cell_type": "markdown",
   "metadata": {},
   "source": [
    "<font size=\"3\">**Label values**</font>"
   ]
  },
  {
   "cell_type": "code",
   "execution_count": 6,
   "metadata": {},
   "outputs": [
    {
     "name": "stdout",
     "output_type": "stream",
     "text": [
      "The label values range from: 0 to 9\n"
     ]
    }
   ],
   "source": [
    "print(\"The label values range from:\", np.min(train_labels), \"to\" ,np.max(train_labels))"
   ]
  },
  {
   "cell_type": "markdown",
   "metadata": {},
   "source": [
    "<font size=\"3\">**Pixel values**</font>"
   ]
  },
  {
   "cell_type": "code",
   "execution_count": 7,
   "metadata": {},
   "outputs": [
    {
     "name": "stdout",
     "output_type": "stream",
     "text": [
      "The pixel values range from: 0 to 255\n"
     ]
    },
    {
     "data": {
      "image/png": "[encoded data removed]",
      "text/plain": [
       "<Figure size 1224x576 with 32 Axes>"
      ]
     },
     "metadata": {},
     "output_type": "display_data"
    }
   ],
   "source": [
    "print(\"The pixel values range from:\", np.min(train_images), \"to\" ,np.max(train_images))\n",
    "\n",
    "plt.figure(figsize=(17,8))\n",
    "for i in range(32):\n",
    "    plt.subplot(4,8,i+1)\n",
    "    plt.xticks([])\n",
    "    plt.yticks([])\n",
    "    plt.imshow(train_images[i])\n",
    "    plt.xlabel(class_names[train_labels[i]])\n",
    "plt.show()"
   ]
  },
  {
   "cell_type": "markdown",
   "metadata": {},
   "source": [
    "### <font color='#34A853'>Preprocess the data - Normalization</font>\n",
    "<hr style=\"border:2px solid ##34A853\"> </hr>"
   ]
  },
  {
   "cell_type": "markdown",
   "metadata": {},
   "source": [
    "<font size=\"5\"><span style=\"background-color:#EA4335; color:white\">&nbsp;!&nbsp;</span></font>\n",
    "<font size=\"3\">**Data normalization is used in machine learning to make model training less sensitive to the scale of features. This allows model to converge to better weights and, in turn, leads to a more accurate model.**</font>\n",
    "\n",
    "<font size=\"3\">**In practice, normalization refers to rescaling real-valued numeric attributes into a range of 0 to 1. Data will be normalized before feeding them to the neural network model.**</font>\n",
    "\n",
    "<font size=\"3\">**It's important that the <span style=\"color:#4285F4\">training set</span> and <span style=\"color:#4285F4\">testing set</span> be preprocessed in the same way. In this case, the pixel values of both training and test images are divided by 255.**</font>"
   ]
  },
  {
   "cell_type": "code",
   "execution_count": 8,
   "metadata": {},
   "outputs": [],
   "source": [
    "train_images_normal = train_images / 255.0\n",
    "\n",
    "test_images_normal = test_images / 255.0"
   ]
  },
  {
   "cell_type": "code",
   "execution_count": 9,
   "metadata": {},
   "outputs": [
    {
     "name": "stdout",
     "output_type": "stream",
     "text": [
      "The pixel values range from: 0.0 to 1.0\n"
     ]
    },
    {
     "data": {
      "image/png": "[encoded data removed]",
      "text/plain": [
       "<Figure size 1224x576 with 32 Axes>"
      ]
     },
     "metadata": {},
     "output_type": "display_data"
    }
   ],
   "source": [
    "print(\"The pixel values range from:\", np.min(train_images_normal), \"to\" ,np.max(train_images_normal))\n",
    "\n",
    "plt.figure(figsize=(17,8))\n",
    "for i in range(32):\n",
    "    plt.subplot(4,8,i+1)\n",
    "    plt.xticks([])\n",
    "    plt.yticks([])\n",
    "    plt.imshow(train_images_normal[i], cmap=plt.cm.binary)\n",
    "    plt.xlabel(class_names[train_labels[i]])\n",
    "plt.show()"
   ]
  },
  {
   "cell_type": "markdown",
   "metadata": {},
   "source": [
    "### <font color='#34A853'>Build the model</font>\n",
    "<hr style=\"border:2px solid ##34A853\"> </hr>"
   ]
  },
  {
   "cell_type": "markdown",
   "metadata": {},
   "source": [
    "<font size=\"3\">**Consider the following model:**</font>"
   ]
  },
  {
   "cell_type": "markdown",
   "metadata": {},
   "source": [
    "```\n",
    "(input: 28x28 image input)\n",
    "       ↧\n",
    "[Flatten ()]\n",
    "       ↧\n",
    "[Dense (128 units, relu activation)]\n",
    "       ↧\n",
    "[Dense (10 units, softmax activation)]\n",
    "       ↧\n",
    "(output: logits of a probability distribution over 10 classes)\n",
    "```"
   ]
  },
  {
   "cell_type": "markdown",
   "metadata": {},
   "source": [
    "### <font color='Orange'>*1) Setup and configure a Functional API model*</font>"
   ]
  },
  {
   "cell_type": "code",
   "execution_count": 10,
   "metadata": {},
   "outputs": [],
   "source": [
    "inputs = keras.Input(shape=(28,28))"
   ]
  },
  {
   "cell_type": "markdown",
   "metadata": {},
   "source": [
    "<font size=\"3\">**The <span style=\"color:#4285F4\">inputs</span> that is returned contains information about the <span style=\"color:#4285F4\">shape</span> and <span style=\"color:#4285F4\">dtype</span> of the input data that we feed to our model.**</font><br>\n",
    "<font size=\"3\">**Here's the shape:**</font>"
   ]
  },
  {
   "cell_type": "code",
   "execution_count": 11,
   "metadata": {},
   "outputs": [
    {
     "data": {
      "text/plain": [
       "TensorShape([None, 28, 28])"
      ]
     },
     "execution_count": 11,
     "metadata": {},
     "output_type": "execute_result"
    }
   ],
   "source": [
    "inputs.shape"
   ]
  },
  {
   "cell_type": "markdown",
   "metadata": {},
   "source": [
    "<font size=\"3\">**Here's the dtype:**</font>"
   ]
  },
  {
   "cell_type": "code",
   "execution_count": 12,
   "metadata": {},
   "outputs": [
    {
     "data": {
      "text/plain": [
       "tf.float32"
      ]
     },
     "execution_count": 12,
     "metadata": {},
     "output_type": "execute_result"
    }
   ],
   "source": [
    "inputs.dtype"
   ]
  },
  {
   "cell_type": "markdown",
   "metadata": {},
   "source": [
    "<font size=\"3\">**To add layer, it is like drawing an arrow from \"inputs\" to this layer we created. We're \"passing\" the inputs to the dense layer, and we get x as the output.**</font><br>\n",
    "\n",
    "```\n",
    "(input: 28x28 image input)\n",
    "       ↧\n",
    "[Flatten ()]\n",
    "       ↧\n",
    "(output: x1)    \n",
    "```  "
   ]
  },
  {
   "cell_type": "code",
   "execution_count": 13,
   "metadata": {},
   "outputs": [],
   "source": [
    "x1 = layers.Flatten()(inputs)"
   ]
  },
  {
   "cell_type": "markdown",
   "metadata": {},
   "source": [
    "<font size=\"3\">**Similarly, we can add another layer to the graph of layers:**</font><br>\n",
    "\n",
    "```\n",
    "(output: x1) \n",
    "       ↧\n",
    "[Dense (128 units, relu activation)]\n",
    "       ↧\n",
    "(output: x2)\n",
    "```  "
   ]
  },
  {
   "cell_type": "code",
   "execution_count": 14,
   "metadata": {},
   "outputs": [],
   "source": [
    "x2 = layers.Dense(128, activation=\"relu\")(x1)"
   ]
  },
  {
   "cell_type": "markdown",
   "metadata": {},
   "source": [
    "<font size=\"3\">**Similarly, we can add another layer to the graph of layers:**</font><br>\n",
    "\n",
    "```\n",
    "(output: x2) \n",
    "       ↧\n",
    "[Dense (10 units, softmax activation)]\n",
    "       ↧\n",
    "(output: outputs)\n",
    "```  \n"
   ]
  },
  {
   "cell_type": "code",
   "execution_count": 15,
   "metadata": {},
   "outputs": [],
   "source": [
    "outputs = layers.Dense(10, activation=\"softmax\")(x2)"
   ]
  },
  {
   "cell_type": "markdown",
   "metadata": {},
   "source": [
    "<font size=\"3\">**At this point, we can create a <span style=\"color:#4285F4\">Model</span> by specifying its inputs and outputs\n",
    "in the graph of layers:**</font><br>"
   ]
  },
  {
   "cell_type": "code",
   "execution_count": 16,
   "metadata": {},
   "outputs": [],
   "source": [
    "model = keras.Model(inputs=inputs, outputs=outputs, name=\"fashion_mnist_model\")"
   ]
  },
  {
   "cell_type": "markdown",
   "metadata": {},
   "source": [
    "<font size=\"3\">**The architecture is like this:**</font><br>"
   ]
  },
  {
   "cell_type": "code",
   "execution_count": 17,
   "metadata": {},
   "outputs": [
    {
     "name": "stdout",
     "output_type": "stream",
     "text": [
      "Model: \"fashion_mnist_model\"\n",
      "_________________________________________________________________\n",
      "Layer (type)                 Output Shape              Param #   \n",
      "=================================================================\n",
      "input_1 (InputLayer)         [(None, 28, 28)]          0         \n",
      "_________________________________________________________________\n",
      "flatten (Flatten)            (None, 784)               0         \n",
      "_________________________________________________________________\n",
      "dense (Dense)                (None, 128)               100480    \n",
      "_________________________________________________________________\n",
      "dense_1 (Dense)              (None, 10)                1290      \n",
      "=================================================================\n",
      "Total params: 101,770\n",
      "Trainable params: 101,770\n",
      "Non-trainable params: 0\n",
      "_________________________________________________________________\n"
     ]
    }
   ],
   "source": [
    "model.summary()"
   ]
  },
  {
   "cell_type": "markdown",
   "metadata": {},
   "source": [
    "<font size=\"3\">**We can also plot the model as a graph:**</font><br>"
   ]
  },
  {
   "cell_type": "code",
   "execution_count": 18,
   "metadata": {},
   "outputs": [
    {
     "data": {
      "image/png": "[encoded data removed]",
      "text/plain": [
       "<IPython.core.display.Image object>"
      ]
     },
     "execution_count": 18,
     "metadata": {},
     "output_type": "execute_result"
    }
   ],
   "source": [
    "keras.utils.plot_model(model, \"my_first_model.png\")"
   ]
  },
  {
   "cell_type": "markdown",
   "metadata": {},
   "source": [
    "<font size=\"5\"><span style=\"background-color:#EA4335; color:white\">&nbsp;!&nbsp;</span></font> <font size=\"3\">**Remark: Details on how to setup plot_model can be found in the appendix.**</font>"
   ]
  },
  {
   "cell_type": "markdown",
   "metadata": {},
   "source": [
    "<font size=\"3\">**And, optionally, display the input and output shapes of each layer in the plotted graph:**</font><br>"
   ]
  },
  {
   "cell_type": "code",
   "execution_count": 19,
   "metadata": {},
   "outputs": [
    {
     "data": {
      "image/png": "[encoded data removed]",
      "text/plain": [
       "<IPython.core.display.Image object>"
      ]
     },
     "execution_count": 19,
     "metadata": {},
     "output_type": "execute_result"
    }
   ],
   "source": [
    "keras.utils.plot_model(model, \"my_first_model_with_shape_info.png\", show_shapes=True)"
   ]
  },
  {
   "cell_type": "markdown",
   "metadata": {},
   "source": [
    "### <font color='Orange'>*2) Compile the model*</font>"
   ]
  },
  {
   "cell_type": "code",
   "execution_count": 21,
   "metadata": {},
   "outputs": [],
   "source": [
    "model.compile(optimizer='adam',\n",
    "              loss=tf.keras.losses.SparseCategoricalCrossentropy(from_logits=False),\n",
    "              metrics=['accuracy'])"
   ]
  },
  {
   "cell_type": "markdown",
   "metadata": {},
   "source": [
    "<font size=\"3\">**<span style=\"color:#4285F4\">SparseCategoricalCrossentropy</span> and <span style=\"color:#4285F4\">CategoricalCrossentropy</span> both compute categorical cross-entropy. The only difference is in how the targets/labels should be encoded.**</font>\n",
    "\n",
    "> <font size=\"3\">**For <span style=\"color:#4285F4\">one hot</span> representation, <span style=\"color:#4285F4\">CatergoricalCrossentropy</span> can be used.**</font>\n",
    "\n",
    "> <font size=\"3\">**For labels as integers (i.e. 0, 1, 2), <span style=\"color:#4285F4\">SparseCategoricalCrossentropy</span> can be used.**</font>"
   ]
  },
  {
   "cell_type": "markdown",
   "metadata": {},
   "source": [
    "<font size=\"3\">**<span style=\"background-color: #ECECEC; color:#0047bb\">from_logits</span> argument informs the loss function whether the output is expected to be a logits tensor (i.e. normalized).**</font>\n",
    "\n",
    "><font size=\"3\">**By default, <span style=\"background-color: #ECECEC; color:#0047bb\">from_logits</span> is <span style=\"color:#4285F4\">False </span> which assumes that output encodes a probability distribution, such as outputs from softmax and sigmoid activations.**</font>\n",
    "\n",
    "><font size=\"3\">**If <span style=\"background-color: #ECECEC; color:#0047bb\">from_logits</span> is <span style=\"color:#4285F4\">True</span>, this assumes that output is a logits. In this case, softmax or sigmoid activations will automatically applied on the output values by the loss function. Hence, output layer doesn't need any probabilistic activation function.**</font>"
   ]
  },
  {
   "cell_type": "markdown",
   "metadata": {},
   "source": [
    "<font size=\"5\"><span style=\"background-color:#EA4335; color:white\">&nbsp;!&nbsp;</span></font> <font size=\"3\">**Remark: If <span style=\"background-color: #ECECEC; color:#0047bb\">from_logits</span> is <span style=\"color:#4285F4\">True</span>, no activation function is needed in the output layer, e.g.**</font>"
   ]
  },
  {
   "cell_type": "markdown",
   "metadata": {},
   "source": [
    "<img src=\"https://firebasestorage.googleapis.com/v0/b/deep-learning-crash-course.appspot.com/o/3NNExercise2.png?alt=media&token=d053ce8a-8ccb-4087-a198-a19ced62e298\" width=\"2000\"/>"
   ]
  },
  {
   "cell_type": "markdown",
   "metadata": {},
   "source": [
    "### <font color='#34A853'>Train the model</font>\n",
    "<hr style=\"border:2px solid ##34A853\"> </hr>"
   ]
  },
  {
   "cell_type": "markdown",
   "metadata": {},
   "source": [
    "<font size=\"3\">**Training, evaluation, and prediction work exactly in the same way for models built using the functional API as for Sequential models.**</font>"
   ]
  },
  {
   "cell_type": "markdown",
   "metadata": {},
   "source": [
    "### <font color='Orange'>*1) Feed the model*</font>"
   ]
  },
  {
   "cell_type": "code",
   "execution_count": 22,
   "metadata": {},
   "outputs": [
    {
     "name": "stdout",
     "output_type": "stream",
     "text": [
      "Epoch 1/10\n",
      "1875/1875 [==============================] - 5s 2ms/step - loss: 0.5003 - accuracy: 0.8247\n",
      "Epoch 2/10\n",
      "1875/1875 [==============================] - 4s 2ms/step - loss: 0.3776 - accuracy: 0.8622\n",
      "Epoch 3/10\n",
      "1875/1875 [==============================] - 5s 3ms/step - loss: 0.3385 - accuracy: 0.8759\n",
      "Epoch 4/10\n",
      "1875/1875 [==============================] - 6s 3ms/step - loss: 0.3133 - accuracy: 0.8835\n",
      "Epoch 5/10\n",
      "1875/1875 [==============================] - 6s 3ms/step - loss: 0.2972 - accuracy: 0.8900\n",
      "Epoch 6/10\n",
      "1875/1875 [==============================] - 6s 3ms/step - loss: 0.2812 - accuracy: 0.8970\n",
      "Epoch 7/10\n",
      "1875/1875 [==============================] - 6s 3ms/step - loss: 0.2693 - accuracy: 0.8988\n",
      "Epoch 8/10\n",
      "1875/1875 [==============================] - 6s 3ms/step - loss: 0.2580 - accuracy: 0.9032\n",
      "Epoch 9/10\n",
      "1875/1875 [==============================] - 6s 3ms/step - loss: 0.2495 - accuracy: 0.9064\n",
      "Epoch 10/10\n",
      "1875/1875 [==============================] - 6s 3ms/step - loss: 0.2406 - accuracy: 0.9100\n"
     ]
    },
    {
     "data": {
      "text/plain": [
       "<tensorflow.python.keras.callbacks.History at 0x25a14255820>"
      ]
     },
     "execution_count": 22,
     "metadata": {},
     "output_type": "execute_result"
    }
   ],
   "source": [
    "model.fit(train_images_normal, train_labels, epochs=10)"
   ]
  },
  {
   "cell_type": "markdown",
   "metadata": {},
   "source": [
    "<font size=\"3\">**To start training, <span style=\"background-color: #ECECEC; color:#0047bb\">model.fit()</span> method can be used to \"fit\" the model with training data. In this example, the training data is in the <span style=\"color:#4285F4\">train_images</span> and <span style=\"color:#4285F4\">train_labels</span> arrays.**</font>\n",
    "\n",
    "<font size=\"3\">***Training accuracy***</font>\n",
    "> <font size=\"3\">**As the model trains, the loss and accuracy metrics are improving. After 10 epochs, this model reaches an accuracy of about 0.91 (91%) on training data.**</font><br>"
   ]
  },
  {
   "cell_type": "markdown",
   "metadata": {},
   "source": [
    "### <font color='Orange'>*2) Evaluate the model*</font>"
   ]
  },
  {
   "cell_type": "code",
   "execution_count": 24,
   "metadata": {},
   "outputs": [
    {
     "name": "stdout",
     "output_type": "stream",
     "text": [
      "313/313 - 1s - loss: 57.4790 - accuracy: 0.8652\n",
      "Test accuracy: 87 %\n"
     ]
    }
   ],
   "source": [
    "test_loss, test_acc = model.evaluate(test_images,  test_labels, verbose=2)\n",
    "\n",
    "print('Test accuracy:', round(test_acc*100), '%')"
   ]
  },
  {
   "cell_type": "markdown",
   "metadata": {},
   "source": [
    "<font size=\"3\">***Test accuracy***</font>\n",
    "> <font size=\"3\">**It turns out that the accuracy on the test dataset is a little less than the accuracy on the training dataset. This gap between training accuracy and test accuracy represents <span style=\"color:#4285F4\">overfitting</span>.**</font>\n",
    "\n",
    "> <font size=\"3\">**Overfitting happens when a machine learning model performs worse on new, previously unseen inputs than it does on the training data. An overfitted model \"memorizes\" the noise and details in the training dataset to a point where it negatively impacts the performance of the model on the new data. In other words, its generalization ability is poor.**</font>\n",
    "    \n",
    "Reference:\n",
    "*   [Demonstrate overfitting](https://www.tensorflow.org/tutorials/keras/overfit_and_underfit#demonstrate_overfitting)\n",
    "*   [Strategies to prevent overfitting](https://www.tensorflow.org/tutorials/keras/overfit_and_underfit#strategies_to_prevent_overfitting)"
   ]
  },
  {
   "cell_type": "markdown",
   "metadata": {},
   "source": [
    "### <font color='Orange'>*3) Verify and visualize predictions*</font>"
   ]
  },
  {
   "cell_type": "markdown",
   "metadata": {},
   "source": [
    "<font size=\"3\">**With trained network, it can be used to make predictions.**</font>\n",
    "<font size=\"3\">**Let's predict 16 images. Correct prediction labels are blue and incorrect prediction labels are red. The number indicates the precentage (i.e. confidence) for the predicted label.**</font>"
   ]
  },
  {
   "cell_type": "code",
   "execution_count": 25,
   "metadata": {
    "scrolled": false
   },
   "outputs": [
    {
     "data": {
      "image/png": "[encoded data removed]",
      "text/plain": [
       "<Figure size 1224x576 with 32 Axes>"
      ]
     },
     "metadata": {
      "needs_background": "light"
     },
     "output_type": "display_data"
    }
   ],
   "source": [
    "predictions = model.predict(test_images_normal)\n",
    "\n",
    "plt.figure(figsize=(17,8))\n",
    "\n",
    "for i in range(16):\n",
    "    plt.subplot(4,8,2*i+1)\n",
    "    plt.xticks([])\n",
    "    plt.yticks([])\n",
    "    if np.argmax(predictions[i]) == test_labels[i]:\n",
    "        color = 'blue'\n",
    "    else:\n",
    "        color = 'red'\n",
    "    plt.imshow(test_images[i], cmap=plt.cm.binary)\n",
    "    plt.xlabel(\"{} {:2.0f}% ({})\".format(class_names[np.argmax(predictions[i])],\n",
    "                                100*np.max(predictions[i]),\n",
    "                                class_names[test_labels[i]]),\n",
    "                                color=color)\n",
    "    plt.subplot(4,8,2*i+2)\n",
    "    plt.xticks(range(10))\n",
    "    plt.yticks([])\n",
    "    thisplot = plt.bar(range(10), predictions[i], color=\"grey\")\n",
    "    plt.ylim([0, 1])  \n",
    "\n",
    "    thisplot[np.argmax(predictions[i])].set_color('red')\n",
    "    thisplot[test_labels[i]].set_color('blue')\n",
    "    \n",
    "plt.show()"
   ]
  },
  {
   "cell_type": "markdown",
   "metadata": {},
   "source": [
    "### <font color='#34A853'>Use the trained model</font>\n",
    "<hr style=\"border:2px solid ##34A853\"> </hr>"
   ]
  },
  {
   "cell_type": "markdown",
   "metadata": {},
   "source": [
    "<font size=\"3\">**Once the model is trained, images can be fed into the model for prediction.**</font>"
   ]
  },
  {
   "cell_type": "code",
   "execution_count": 26,
   "metadata": {},
   "outputs": [
    {
     "name": "stdout",
     "output_type": "stream",
     "text": [
      "(28, 28)\n"
     ]
    }
   ],
   "source": [
    "# Grab an image from the test dataset.\n",
    "img = test_images[50]\n",
    "print(img.shape)"
   ]
  },
  {
   "cell_type": "markdown",
   "metadata": {},
   "source": [
    "<font size=\"3\">**<span style=\"background-color: #ECECEC; color:#0047bb\">tf.keras</span> models are optimized to make predictions on a <span style=\"color:#4285F4\">batch</span>, or collection, of examples at once. Therefore, even this is a single image prediction, image needs to be add into a list and make it like a <span style=\"color:#4285F4\">batch</span>.**</font>\n",
    "\n",
    "<font size=\"3\">**<span style=\"background-color: #ECECEC; color:#0047bb\">np.expand_dims</span> function can help insert a new axis that will appear at the axis position in the expanded array shape.**</font>"
   ]
  },
  {
   "cell_type": "code",
   "execution_count": 27,
   "metadata": {},
   "outputs": [
    {
     "name": "stdout",
     "output_type": "stream",
     "text": [
      "(1, 28, 28)\n"
     ]
    }
   ],
   "source": [
    "# Add the image to a batch where it's the only member.\n",
    "img = (np.expand_dims(img,0))\n",
    "\n",
    "print(img.shape)"
   ]
  },
  {
   "cell_type": "markdown",
   "metadata": {},
   "source": [
    "<font size=\"3\">**Then, images can be fed into the model for prediction.**</font>"
   ]
  },
  {
   "cell_type": "code",
   "execution_count": 28,
   "metadata": {},
   "outputs": [
    {
     "name": "stdout",
     "output_type": "stream",
     "text": [
      "The highest confidence is: 4\n",
      "The predicted class is: Coat\n"
     ]
    }
   ],
   "source": [
    "predictions_img = model.predict(img)\n",
    "\n",
    "max_confidence = np.argmax(predictions_img[0])\n",
    "\n",
    "print(\"The highest confidence is:\", max_confidence)\n",
    "print(\"The predicted class is:\", class_names[max_confidence])"
   ]
  },
  {
   "cell_type": "markdown",
   "metadata": {},
   "source": [
    "<font size=\"3\">**Let's visualize the results.**</font>"
   ]
  },
  {
   "cell_type": "code",
   "execution_count": 29,
   "metadata": {},
   "outputs": [
    {
     "data": {
      "image/png": "[encoded data removed]",
      "text/plain": [
       "<Figure size 864x288 with 2 Axes>"
      ]
     },
     "metadata": {
      "needs_background": "light"
     },
     "output_type": "display_data"
    }
   ],
   "source": [
    "plt.figure(figsize=(12,4))\n",
    "\n",
    "i=50\n",
    "plt.subplot(1,2,1)\n",
    "plt.xticks([])\n",
    "plt.yticks([])\n",
    "if np.argmax(predictions[i]) == test_labels[i]:\n",
    "    color = 'blue'\n",
    "else:\n",
    "    color = 'red'\n",
    "plt.imshow(test_images[i], cmap=plt.cm.binary)\n",
    "plt.xlabel(\"{} {:2.0f}% ({})\".format(class_names[np.argmax(predictions[i])],\n",
    "                            100*np.max(predictions[i]),\n",
    "                            class_names[test_labels[i]]),\n",
    "                            color=color)\n",
    "plt.subplot(1,2,2)\n",
    "plt.xticks(range(10), class_names, rotation=45)\n",
    "plt.yticks([])\n",
    "thisplot = plt.bar(range(10), predictions[i], color=\"grey\")\n",
    "plt.ylim([0, 1])  \n",
    "\n",
    "thisplot[np.argmax(predictions[i])].set_color('red')\n",
    "thisplot[test_labels[i]].set_color('blue')\n",
    "    \n",
    "plt.show()"
   ]
  },
  {
   "cell_type": "markdown",
   "metadata": {},
   "source": [
    "<font size=\"3\">**The model predicts the label correctly.**</font>"
   ]
  },
  {
   "cell_type": "markdown",
   "metadata": {},
   "source": [
    "<hr style=\"border:2px solid #E1F6FF\"> </hr>"
   ]
  },
  {
   "cell_type": "markdown",
   "metadata": {},
   "source": [
    "## 7.3 Use the same graph of layers to define multiple models"
   ]
  },
  {
   "cell_type": "markdown",
   "metadata": {},
   "source": [
    "<font size=\"3\">**In the <span style=\"color:#4285F4\">functional API</span>, models are created by specifying their inputs and outputs in a graph of layers. That means that a <span style=\"color:#4285F4\">single graph of layers can be used to generate multiple models</span>.**</font>"
   ]
  },
  {
   "cell_type": "markdown",
   "metadata": {},
   "source": [
    "### <font color='#176BEF'> Examples </font>\n",
    "<hr style=\"border:2px solid #E1F6FF\"> </hr>"
   ]
  },
  {
   "cell_type": "markdown",
   "metadata": {},
   "source": [
    "<font size=\"3\">**Let's try to use the same stack of layers to create two different models:**</font>\n",
    "\n",
    "><font size=\"3\">**An <span style=\"color:#4285F4\">encoder</span> model that turns image inputs into 16-dimensional vectors**</font>\n",
    "\n",
    "><font size=\"3\">**An end-to-end <span style=\"color:#4285F4\">autoencoder</span> model for training**</font>"
   ]
  },
  {
   "cell_type": "markdown",
   "metadata": {},
   "source": [
    "<font size=\"3\">**<span style=\"color:#4285F4\">Encoder</span>**</font>"
   ]
  },
  {
   "cell_type": "markdown",
   "metadata": {},
   "source": [
    "```\n",
    "(input: 28x28x1 image input)\n",
    "       ↧\n",
    "[Conv2D (16 units, 3x3 kernel, relu activation)]\n",
    "       ↧\n",
    "[Conv2D (32 units, 3x3 kernel, relu activation)]\n",
    "       ↧\n",
    "[MaxPooling2D (3x3 pooling window)]\n",
    "       ↧\n",
    "[Conv2D (32 units, 3x3 kernel, relu activation)]\n",
    "       ↧\n",
    "[Conv2D (16 units, 3x3 kernel, relu activation)]\n",
    "       ↧\n",
    "[GlobalMaxPooling2D]\n",
    "       ↧       \n",
    "(output: 16-dimensional vectors)\n",
    "```"
   ]
  },
  {
   "cell_type": "code",
   "execution_count": 30,
   "metadata": {},
   "outputs": [
    {
     "name": "stdout",
     "output_type": "stream",
     "text": [
      "Model: \"encoder\"\n",
      "_________________________________________________________________\n",
      "Layer (type)                 Output Shape              Param #   \n",
      "=================================================================\n",
      "img (InputLayer)             [(None, 28, 28, 1)]       0         \n",
      "_________________________________________________________________\n",
      "conv2d (Conv2D)              (None, 26, 26, 16)        160       \n",
      "_________________________________________________________________\n",
      "conv2d_1 (Conv2D)            (None, 24, 24, 32)        4640      \n",
      "_________________________________________________________________\n",
      "max_pooling2d (MaxPooling2D) (None, 8, 8, 32)          0         \n",
      "_________________________________________________________________\n",
      "conv2d_2 (Conv2D)            (None, 6, 6, 32)          9248      \n",
      "_________________________________________________________________\n",
      "conv2d_3 (Conv2D)            (None, 4, 4, 16)          4624      \n",
      "_________________________________________________________________\n",
      "global_max_pooling2d (Global (None, 16)                0         \n",
      "=================================================================\n",
      "Total params: 18,672\n",
      "Trainable params: 18,672\n",
      "Non-trainable params: 0\n",
      "_________________________________________________________________\n"
     ]
    }
   ],
   "source": [
    "encoder_input = keras.Input(shape=(28, 28, 1), name=\"img\")\n",
    "x = layers.Conv2D(16, 3, activation=\"relu\")(encoder_input)\n",
    "x = layers.Conv2D(32, 3, activation=\"relu\")(x)\n",
    "x = layers.MaxPooling2D(3)(x)\n",
    "x = layers.Conv2D(32, 3, activation=\"relu\")(x)\n",
    "x = layers.Conv2D(16, 3, activation=\"relu\")(x)\n",
    "encoder_output = layers.GlobalMaxPooling2D()(x)\n",
    "\n",
    "encoder = keras.Model(encoder_input, encoder_output, name=\"encoder\")\n",
    "encoder.summary()"
   ]
  },
  {
   "cell_type": "markdown",
   "metadata": {},
   "source": [
    "<font size=\"3\">**<span style=\"color:#4285F4\">Autoencoder</span>**</font>"
   ]
  },
  {
   "cell_type": "markdown",
   "metadata": {},
   "source": [
    "<font size=\"3\">**Encoder model are created by specifying their inputs and outputs in a graph of layers. On top of this encoder model, we can build a decoder and hence an end-to-end autodecoder model.**</font>"
   ]
  },
  {
   "cell_type": "markdown",
   "metadata": {},
   "source": [
    "```     \n",
    "(output: 16-dimensional vectors)\n",
    "       ↧\n",
    "[Reshape (4x4)]\n",
    "       ↧\n",
    "[Conv2DTranspose (16 units, 3x3 kernel, relu activation)]\n",
    "       ↧\n",
    "[Conv2DTranspose (32 units, 3x3 kernel, relu activation)]\n",
    "       ↧\n",
    "[UpSampling2D (3x3 pooling window)]\n",
    "       ↧\n",
    "[Conv2DTranspose (16 units, 3x3 kernel, relu activation)]\n",
    "       ↧\n",
    "[Conv2DTranspose (1 units, 3x3 kernel, relu activation)]\n",
    "       ↧\n",
    "(output: 28x28x1 image output)\n",
    "```"
   ]
  },
  {
   "cell_type": "code",
   "execution_count": 31,
   "metadata": {},
   "outputs": [
    {
     "name": "stdout",
     "output_type": "stream",
     "text": [
      "Model: \"autoencoder\"\n",
      "_________________________________________________________________\n",
      "Layer (type)                 Output Shape              Param #   \n",
      "=================================================================\n",
      "img (InputLayer)             [(None, 28, 28, 1)]       0         \n",
      "_________________________________________________________________\n",
      "conv2d (Conv2D)              (None, 26, 26, 16)        160       \n",
      "_________________________________________________________________\n",
      "conv2d_1 (Conv2D)            (None, 24, 24, 32)        4640      \n",
      "_________________________________________________________________\n",
      "max_pooling2d (MaxPooling2D) (None, 8, 8, 32)          0         \n",
      "_________________________________________________________________\n",
      "conv2d_2 (Conv2D)            (None, 6, 6, 32)          9248      \n",
      "_________________________________________________________________\n",
      "conv2d_3 (Conv2D)            (None, 4, 4, 16)          4624      \n",
      "_________________________________________________________________\n",
      "global_max_pooling2d (Global (None, 16)                0         \n",
      "_________________________________________________________________\n",
      "reshape (Reshape)            (None, 4, 4, 1)           0         \n",
      "_________________________________________________________________\n",
      "conv2d_transpose (Conv2DTran (None, 6, 6, 16)          160       \n",
      "_________________________________________________________________\n",
      "conv2d_transpose_1 (Conv2DTr (None, 8, 8, 32)          4640      \n",
      "_________________________________________________________________\n",
      "up_sampling2d (UpSampling2D) (None, 24, 24, 32)        0         \n",
      "_________________________________________________________________\n",
      "conv2d_transpose_2 (Conv2DTr (None, 26, 26, 16)        4624      \n",
      "_________________________________________________________________\n",
      "conv2d_transpose_3 (Conv2DTr (None, 28, 28, 1)         145       \n",
      "=================================================================\n",
      "Total params: 28,241\n",
      "Trainable params: 28,241\n",
      "Non-trainable params: 0\n",
      "_________________________________________________________________\n"
     ]
    }
   ],
   "source": [
    "x = layers.Reshape((4, 4, 1))(encoder_output)\n",
    "x = layers.Conv2DTranspose(16, 3, activation=\"relu\")(x)\n",
    "x = layers.Conv2DTranspose(32, 3, activation=\"relu\")(x)\n",
    "x = layers.UpSampling2D(3)(x)\n",
    "x = layers.Conv2DTranspose(16, 3, activation=\"relu\")(x)\n",
    "decoder_output = layers.Conv2DTranspose(1, 3, activation=\"relu\")(x)\n",
    "\n",
    "autoencoder = keras.Model(encoder_input, decoder_output, name=\"autoencoder\")\n",
    "autoencoder.summary()"
   ]
  },
  {
   "cell_type": "markdown",
   "metadata": {},
   "source": [
    "<font size=\"3\">**Here, the decoding architecture is strictly symmetrical to the encoding architecture, so the output shape is the same as the input shape (28, 28, 1).**</font>\n",
    "\n",
    "<font size=\"3\">**The reverse of a <span style=\"color:#4285F4\">Conv2D</span> layer is a <span style=\"color:#4285F4\">Conv2DTranspose</span> layer, and the reverse of a <span style=\"color:#4285F4\">MaxPooling2D</span> layer is an <span style=\"color:#4285F4\">UpSampling2D</span> layer.**</font>"
   ]
  },
  {
   "cell_type": "markdown",
   "metadata": {},
   "source": [
    "<hr style=\"border:2px solid #E1F6FF\"> </hr>"
   ]
  },
  {
   "cell_type": "markdown",
   "metadata": {},
   "source": [
    "## 7.4 All models are callable, just like layers"
   ]
  },
  {
   "cell_type": "markdown",
   "metadata": {},
   "source": [
    "<font size=\"3\">**We can treat any model as if it were a layer by invoking it on an Input or on the output of another layer. By calling a model we are <span style=\"color:#4285F4\">reusing the architecture</span> of the model and also <span style=\"color:#4285F4\">reusing its weights</span>.**</font>"
   ]
  },
  {
   "cell_type": "markdown",
   "metadata": {},
   "source": [
    "### <font color='#176BEF'> Examples </font>\n",
    "<hr style=\"border:2px solid #E1F6FF\"> </hr>"
   ]
  },
  {
   "cell_type": "markdown",
   "metadata": {},
   "source": [
    "<font size=\"3\">**Let's try to create:**</font>\n",
    "\n",
    "><font size=\"3\">**An <span style=\"color:#4285F4\">encoder</span> model that turns image inputs into 16-dimensional vectors**</font>\n",
    "\n",
    "><font size=\"3\">**An <span style=\"color:#4285F4\">decoder</span> model that turns 16-dimensional vectors into an image outputs**</font>\n",
    "\n",
    "<font size=\"3\">**and then chain them in two calls to obtain the <span style=\"color:#4285F4\">autoencoder</span> model.**</font>"
   ]
  },
  {
   "cell_type": "markdown",
   "metadata": {},
   "source": [
    "<font size=\"3\">**<span style=\"color:#4285F4\">Encoder</span>**</font>"
   ]
  },
  {
   "cell_type": "markdown",
   "metadata": {},
   "source": [
    "```\n",
    "(input: 28x28x1 image input)\n",
    "       ↧\n",
    "[Conv2D (16 units, 3x3 kernel, relu activation)]\n",
    "       ↧\n",
    "[Conv2D (32 units, 3x3 kernel, relu activation)]\n",
    "       ↧\n",
    "[MaxPooling2D (3x3 pooling window)]\n",
    "       ↧\n",
    "[Conv2D (32 units, 3x3 kernel, relu activation)]\n",
    "       ↧\n",
    "[Conv2D (16 units, 3x3 kernel, relu activation)]\n",
    "       ↧\n",
    "[GlobalMaxPooling2D]\n",
    "       ↧       \n",
    "(output: 16-dimensional vectors)\n",
    "```"
   ]
  },
  {
   "cell_type": "code",
   "execution_count": 32,
   "metadata": {},
   "outputs": [
    {
     "name": "stdout",
     "output_type": "stream",
     "text": [
      "Model: \"encoder\"\n",
      "_________________________________________________________________\n",
      "Layer (type)                 Output Shape              Param #   \n",
      "=================================================================\n",
      "original_img (InputLayer)    [(None, 28, 28, 1)]       0         \n",
      "_________________________________________________________________\n",
      "conv2d_4 (Conv2D)            (None, 26, 26, 16)        160       \n",
      "_________________________________________________________________\n",
      "conv2d_5 (Conv2D)            (None, 24, 24, 32)        4640      \n",
      "_________________________________________________________________\n",
      "max_pooling2d_1 (MaxPooling2 (None, 8, 8, 32)          0         \n",
      "_________________________________________________________________\n",
      "conv2d_6 (Conv2D)            (None, 6, 6, 32)          9248      \n",
      "_________________________________________________________________\n",
      "conv2d_7 (Conv2D)            (None, 4, 4, 16)          4624      \n",
      "_________________________________________________________________\n",
      "global_max_pooling2d_1 (Glob (None, 16)                0         \n",
      "=================================================================\n",
      "Total params: 18,672\n",
      "Trainable params: 18,672\n",
      "Non-trainable params: 0\n",
      "_________________________________________________________________\n"
     ]
    }
   ],
   "source": [
    "encoder_input = keras.Input(shape=(28, 28, 1), name=\"original_img\")\n",
    "x = layers.Conv2D(16, 3, activation=\"relu\")(encoder_input)\n",
    "x = layers.Conv2D(32, 3, activation=\"relu\")(x)\n",
    "x = layers.MaxPooling2D(3)(x)\n",
    "x = layers.Conv2D(32, 3, activation=\"relu\")(x)\n",
    "x = layers.Conv2D(16, 3, activation=\"relu\")(x)\n",
    "encoder_output = layers.GlobalMaxPooling2D()(x)\n",
    "\n",
    "encoder = keras.Model(encoder_input, encoder_output, name=\"encoder\")\n",
    "encoder.summary()"
   ]
  },
  {
   "cell_type": "markdown",
   "metadata": {},
   "source": [
    "<font size=\"3\">**<span style=\"color:#4285F4\">Decoder</span>**</font>"
   ]
  },
  {
   "cell_type": "markdown",
   "metadata": {},
   "source": [
    "```     \n",
    "(input: 16-dimensional vectors)\n",
    "       ↧\n",
    "[Reshape (4x4)]\n",
    "       ↧\n",
    "[Conv2DTranspose (16 units, 3x3 kernel, relu activation)]\n",
    "       ↧\n",
    "[Conv2DTranspose (32 units, 3x3 kernel, relu activation)]\n",
    "       ↧\n",
    "[UpSampling2D (3x3 pooling window)]\n",
    "       ↧\n",
    "[Conv2DTranspose (16 units, 3x3 kernel, relu activation)]\n",
    "       ↧\n",
    "[Conv2DTranspose (1 units, 3x3 kernel, relu activation)]\n",
    "       ↧\n",
    "(output: 28x28x1 image output)\n",
    "```"
   ]
  },
  {
   "cell_type": "code",
   "execution_count": 33,
   "metadata": {},
   "outputs": [
    {
     "name": "stdout",
     "output_type": "stream",
     "text": [
      "Model: \"decoder\"\n",
      "_________________________________________________________________\n",
      "Layer (type)                 Output Shape              Param #   \n",
      "=================================================================\n",
      "encoded_img (InputLayer)     [(None, 16)]              0         \n",
      "_________________________________________________________________\n",
      "reshape_1 (Reshape)          (None, 4, 4, 1)           0         \n",
      "_________________________________________________________________\n",
      "conv2d_transpose_4 (Conv2DTr (None, 6, 6, 16)          160       \n",
      "_________________________________________________________________\n",
      "conv2d_transpose_5 (Conv2DTr (None, 8, 8, 32)          4640      \n",
      "_________________________________________________________________\n",
      "up_sampling2d_1 (UpSampling2 (None, 24, 24, 32)        0         \n",
      "_________________________________________________________________\n",
      "conv2d_transpose_6 (Conv2DTr (None, 26, 26, 16)        4624      \n",
      "_________________________________________________________________\n",
      "conv2d_transpose_7 (Conv2DTr (None, 28, 28, 1)         145       \n",
      "=================================================================\n",
      "Total params: 9,569\n",
      "Trainable params: 9,569\n",
      "Non-trainable params: 0\n",
      "_________________________________________________________________\n"
     ]
    }
   ],
   "source": [
    "decoder_input = keras.Input(shape=(16,), name=\"encoded_img\")\n",
    "x = layers.Reshape((4, 4, 1))(decoder_input)\n",
    "x = layers.Conv2DTranspose(16, 3, activation=\"relu\")(x)\n",
    "x = layers.Conv2DTranspose(32, 3, activation=\"relu\")(x)\n",
    "x = layers.UpSampling2D(3)(x)\n",
    "x = layers.Conv2DTranspose(16, 3, activation=\"relu\")(x)\n",
    "decoder_output = layers.Conv2DTranspose(1, 3, activation=\"relu\")(x)\n",
    "\n",
    "decoder = keras.Model(decoder_input, decoder_output, name=\"decoder\")\n",
    "decoder.summary()"
   ]
  },
  {
   "cell_type": "markdown",
   "metadata": {},
   "source": [
    "<font size=\"3\">**<span style=\"color:#4285F4\">Autoencoder</span>**</font>"
   ]
  },
  {
   "cell_type": "markdown",
   "metadata": {},
   "source": [
    "```     \n",
    "(input: 28x28x1 image input)\n",
    "       ↧\n",
    "[encoder()]\n",
    "       ↧\n",
    "[decoder()]\n",
    "       ↧\n",
    "(output: 28x28x1 image output)\n",
    "```"
   ]
  },
  {
   "cell_type": "code",
   "execution_count": 34,
   "metadata": {},
   "outputs": [
    {
     "name": "stdout",
     "output_type": "stream",
     "text": [
      "Model: \"autoencoder\"\n",
      "_________________________________________________________________\n",
      "Layer (type)                 Output Shape              Param #   \n",
      "=================================================================\n",
      "img (InputLayer)             [(None, 28, 28, 1)]       0         \n",
      "_________________________________________________________________\n",
      "encoder (Functional)         (None, 16)                18672     \n",
      "_________________________________________________________________\n",
      "decoder (Functional)         (None, 28, 28, 1)         9569      \n",
      "=================================================================\n",
      "Total params: 28,241\n",
      "Trainable params: 28,241\n",
      "Non-trainable params: 0\n",
      "_________________________________________________________________\n"
     ]
    }
   ],
   "source": [
    "autoencoder_input = keras.Input(shape=(28, 28, 1), name=\"img\")\n",
    "encoded_img = encoder(autoencoder_input)\n",
    "decoded_img = decoder(encoded_img)\n",
    "autoencoder = keras.Model(autoencoder_input, decoded_img, name=\"autoencoder\")\n",
    "autoencoder.summary()"
   ]
  },
  {
   "cell_type": "markdown",
   "metadata": {},
   "source": [
    "<font size=\"3\">**The model can be nested: a model can contain sub-models, because <span style=\"color:#4285F4\">a model is just like a layer</span>.**</font>\n",
    "\n",
    "<hr style=\"border:2px solid #E1F6FF\"> </hr>"
   ]
  },
  {
   "cell_type": "markdown",
   "metadata": {},
   "source": [
    "### <font color='#176BEF'> Examples </font>\n",
    "<hr style=\"border:2px solid #E1F6FF\"> </hr>\n",
    "\n",
    "<font size=\"3\">**A common use case for model nesting is <span style=\"color:#4285F4\">ensembling</span>.**</font>\n",
    "\n",
    "<font size=\"3\">**For example, here's how to ensemble a set of models into a single model\n",
    "that averages their predictions:**</font>"
   ]
  },
  {
   "cell_type": "code",
   "execution_count": 35,
   "metadata": {},
   "outputs": [],
   "source": [
    "def get_model():\n",
    "    inputs = keras.Input(shape=(128,))\n",
    "    outputs = layers.Dense(1)(inputs)\n",
    "    return keras.Model(inputs, outputs)\n",
    "\n",
    "model1 = get_model()\n",
    "model2 = get_model()\n",
    "model3 = get_model()\n",
    "\n",
    "inputs = keras.Input(shape=(128,))\n",
    "y1 = model1(inputs)\n",
    "y2 = model2(inputs)\n",
    "y3 = model3(inputs)\n",
    "outputs = layers.average([y1, y2, y3])\n",
    "\n",
    "ensemble_model = keras.Model(inputs=inputs, outputs=outputs)"
   ]
  },
  {
   "cell_type": "code",
   "execution_count": 36,
   "metadata": {},
   "outputs": [
    {
     "name": "stdout",
     "output_type": "stream",
     "text": [
      "Model: \"functional_7\"\n",
      "__________________________________________________________________________________________________\n",
      "Layer (type)                    Output Shape         Param #     Connected to                     \n",
      "==================================================================================================\n",
      "input_5 (InputLayer)            [(None, 128)]        0                                            \n",
      "__________________________________________________________________________________________________\n",
      "functional_1 (Functional)       (None, 1)            129         input_5[0][0]                    \n",
      "__________________________________________________________________________________________________\n",
      "functional_3 (Functional)       (None, 1)            129         input_5[0][0]                    \n",
      "__________________________________________________________________________________________________\n",
      "functional_5 (Functional)       (None, 1)            129         input_5[0][0]                    \n",
      "__________________________________________________________________________________________________\n",
      "average (Average)               (None, 1)            0           functional_1[0][0]               \n",
      "                                                                 functional_3[0][0]               \n",
      "                                                                 functional_5[0][0]               \n",
      "==================================================================================================\n",
      "Total params: 387\n",
      "Trainable params: 387\n",
      "Non-trainable params: 0\n",
      "__________________________________________________________________________________________________\n"
     ]
    }
   ],
   "source": [
    "ensemble_model.summary()"
   ]
  },
  {
   "cell_type": "code",
   "execution_count": 37,
   "metadata": {},
   "outputs": [
    {
     "data": {
      "image/png": "[encoded data removed]",
      "text/plain": [
       "<IPython.core.display.Image object>"
      ]
     },
     "execution_count": 37,
     "metadata": {},
     "output_type": "execute_result"
    }
   ],
   "source": [
    "keras.utils.plot_model(ensemble_model, \"my_first_model_with_shape_info.png\", show_shapes=True)"
   ]
  },
  {
   "cell_type": "markdown",
   "metadata": {},
   "source": [
    "<hr style=\"border:2px solid #E1F6FF\"> </hr>"
   ]
  },
  {
   "cell_type": "markdown",
   "metadata": {},
   "source": [
    "## 7.5 Manipulate complex graph topologies"
   ]
  },
  {
   "cell_type": "markdown",
   "metadata": {},
   "source": [
    "<font size=\"3\">**The <span style=\"color:#4285F4\">functional API</span> makes it easy to manipulate multiple inputs and outputs which cannot be handled with the <span style=\"color:#4285F4\">Sequential API</span>.**</font>"
   ]
  },
  {
   "cell_type": "markdown",
   "metadata": {},
   "source": [
    "### <font color='#176BEF'> Examples </font>\n",
    "<hr style=\"border:2px solid #E1F6FF\"> </hr>"
   ]
  },
  {
   "cell_type": "markdown",
   "metadata": {},
   "source": [
    "<font size=\"3\">**For example, we're building a system with three inputs:**</font>\n",
    "\n",
    "><font size=\"3\">**text input (100 words)**</font><br>\n",
    "><font size=\"3\"></font><br>\n",
    "><font size=\"3\">**text input (100 words)**</font><br>\n",
    "><font size=\"3\"></font><br>\n",
    "><font size=\"3\">**categorical input (10 categories)**</font>\n",
    "\n",
    "<font size=\"3\">**This model will have two outputs:**</font>\n",
    "\n",
    "><font size=\"3\">**sigmoid output**</font><br>\n",
    "><font size=\"3\"></font><br>\n",
    "><font size=\"3\">**softmax output (3 categories)**</font><br>\n",
    "\n",
    "<font size=\"3\">**We can build this model in a few lines with the <span style=\"color:#4285F4\">functional API</span>:**</font>"
   ]
  },
  {
   "cell_type": "code",
   "execution_count": 4,
   "metadata": {},
   "outputs": [],
   "source": [
    "num_words = 100\n",
    "num_input_categories = 10\n",
    "num_output_categories = 3\n",
    "\n",
    "text_input_1 = keras.Input(shape=(None,), name=\"Text_1_Input\") \n",
    "text_input_2 = keras.Input(shape=(None,), name=\"Text_2_Input\")\n",
    "categorical_input = keras.Input(shape=(num_input_categories,), name=\"Categorical_Input\")\n",
    "\n",
    "# Embed each word into a 64-dimensional vector\n",
    "text_input_1_features = layers.Embedding(num_words, 64)(text_input_1)\n",
    "text_input_2_features = layers.Embedding(num_words, 64)(text_input_2)\n",
    "\n",
    "# Apply LSTM and return a single 128-dimensional vector\n",
    "text_input_1_features = layers.LSTM(128)(text_input_1_features)\n",
    "# Apply LSTM and return a single 32-dimensional vector\n",
    "text_input_2_features = layers.LSTM(32)(text_input_2_features)\n",
    "\n",
    "# Merge all available features into a single large vector via concatenation\n",
    "x = layers.concatenate([text_input_1_features, text_input_2_features, categorical_input])\n",
    "\n",
    "# Apply a logistic regression for prediction\n",
    "binary_pred = layers.Dense(1, name=\"Binary_Output\")(x)\n",
    "# Apply classifier for 3 categories\n",
    "categorical_pred = layers.Dense(num_output_categories, name=\"Categorical_Output\")(x)\n",
    "\n",
    "# Instantiate an end-to-end model predicting both binary and categorical outputs\n",
    "model = keras.Model(\n",
    "    inputs=[text_input_1, text_input_2, categorical_input],\n",
    "    outputs=[binary_pred, categorical_pred],\n",
    ")"
   ]
  },
  {
   "cell_type": "code",
   "execution_count": 5,
   "metadata": {},
   "outputs": [
    {
     "data": {
      "image/png": "[encoded data removed]",
      "text/plain": [
       "<IPython.core.display.Image object>"
      ]
     },
     "execution_count": 5,
     "metadata": {},
     "output_type": "execute_result"
    }
   ],
   "source": [
    "keras.utils.plot_model(model, \"multi_input_and_output_model.png\", show_shapes=True)"
   ]
  },
  {
   "cell_type": "markdown",
   "metadata": {},
   "source": [
    "<font size=\"3\">**When compiling this model, we can assign <span style=\"color:#4285F4\">different losses</span> to each output.**</font>\n",
    "\n",
    "<font size=\"3\">**We can even assign <span style=\"color:#4285F4\">different weights</span> to each loss to modulate their contribution to the total training loss.**</font>"
   ]
  },
  {
   "cell_type": "code",
   "execution_count": 6,
   "metadata": {},
   "outputs": [],
   "source": [
    "model.compile(\n",
    "    optimizer=keras.optimizers.RMSprop(1e-3),\n",
    "    loss=[\n",
    "        keras.losses.BinaryCrossentropy(from_logits=True),\n",
    "        keras.losses.CategoricalCrossentropy(from_logits=True),\n",
    "    ],\n",
    "    loss_weights=[0.8, 0.2],\n",
    ")"
   ]
  },
  {
   "cell_type": "markdown",
   "metadata": {},
   "source": [
    "<font size=\"3\">**Since the output layers have different names, we can also specify the losses and loss weights with the <span style=\"color:#4285F4\">corresponding layer names</span>:**</font>"
   ]
  },
  {
   "cell_type": "code",
   "execution_count": 7,
   "metadata": {},
   "outputs": [],
   "source": [
    "model.compile(\n",
    "    optimizer=keras.optimizers.RMSprop(1e-3),\n",
    "    loss={\n",
    "        \"Binary_Output\": keras.losses.BinaryCrossentropy(from_logits=True),\n",
    "        \"Categorical_Output\": keras.losses.CategoricalCrossentropy(from_logits=True),\n",
    "    },\n",
    "    loss_weights={\"Binary_Output\": 0.8, \"Categorical_Output\": 0.2},\n",
    ")"
   ]
  },
  {
   "cell_type": "markdown",
   "metadata": {},
   "source": [
    "<font size=\"3\">**Let's pass random lists of inputs and targets to train the model:**</font>"
   ]
  },
  {
   "cell_type": "code",
   "execution_count": 8,
   "metadata": {},
   "outputs": [
    {
     "name": "stdout",
     "output_type": "stream",
     "text": [
      "Epoch 1/2\n",
      "40/40 [==============================] - 1s 36ms/step - loss: 0.9044 - Binary_Output_loss: 0.7044 - Categorical_Output_loss: 1.7045\n",
      "Epoch 2/2\n",
      "40/40 [==============================] - 1s 37ms/step - loss: 0.8899 - Binary_Output_loss: 0.7007 - Categorical_Output_loss: 1.6471\n"
     ]
    },
    {
     "data": {
      "text/plain": [
       "<tensorflow.python.keras.callbacks.History at 0x22ef888dd00>"
      ]
     },
     "execution_count": 8,
     "metadata": {},
     "output_type": "execute_result"
    }
   ],
   "source": [
    "# Dummy input data\n",
    "text_input_1_data = np.random.randint(num_words, size=(1280, 10))\n",
    "text_input_2_data = np.random.randint(num_words, size=(1280, 100))\n",
    "categorical_input_data = np.random.randint(2, size=(1280, num_input_categories)).astype(\"float32\")\n",
    "\n",
    "# Dummy target data\n",
    "binary_targets = np.random.random(size=(1280, 1))\n",
    "categorical_targets = np.random.randint(2, size=(1280, num_output_categories))\n",
    "\n",
    "model.fit(\n",
    "    {\"Text_1_Input\": text_input_1_data, \"Text_2_Input\":text_input_2_data, \"Categorical_Input\": categorical_input_data},\n",
    "    {\"Binary_Output\": binary_targets, \"Categorical_Output\": categorical_targets},\n",
    "    epochs=2,\n",
    "    batch_size=32,\n",
    ")"
   ]
  },
  {
   "cell_type": "markdown",
   "metadata": {},
   "source": [
    "<hr style=\"border:2px solid #E1F6FF\"> </hr>"
   ]
  },
  {
   "cell_type": "markdown",
   "metadata": {},
   "source": [
    "## 7.6 Shared layers"
   ]
  },
  {
   "cell_type": "markdown",
   "metadata": {},
   "source": [
    "<font size=\"3\">**Another good use for the <span style=\"color:#4285F4\">functional API</span> are models that use <span style=\"color:#4285F4\">shared layers</span>.**</font> \n",
    " \n",
    "><font size=\"3\">**<span style=\"color:#4285F4\">Shared layers</span> are layer instances that are reused multiple times in the same model.**</font>\n",
    "    \n",
    "><font size=\"3\">**They <span style=\"color:#4285F4\">learn features that correspond to multiple paths</span> in the graph-of-layers.**</font>\n",
    "\n",
    "<font size=\"3\">**<span style=\"color:#4285F4\">Shared layers</span> are often used to encode inputs from similar spaces (say, two different pieces of text that feature similar vocabulary). They enable sharing of information across these different inputs, and they make it possible to train such a model on less data. If a given word is seen in one of the inputs, that will benefit the processing of all inputs that pass through the shared layer.**</font>"
   ]
  },
  {
   "cell_type": "markdown",
   "metadata": {},
   "source": [
    "### <font color='#176BEF'> Examples </font>\n",
    "<hr style=\"border:2px solid #E1F6FF\"> </hr>"
   ]
  },
  {
   "cell_type": "markdown",
   "metadata": {},
   "source": [
    "<font size=\"3\">**To share a layer in the <span style=\"color:#4285F4\">functional API</span>, call the same layer instance multiple times. For instance, here's an Embedding layer shared across two different text inputs:**</font>"
   ]
  },
  {
   "cell_type": "code",
   "execution_count": null,
   "metadata": {},
   "outputs": [],
   "source": [
    "# Embedding for 1000 unique words mapped to 128-dimensional vectors\n",
    "shared_embedding = layers.Embedding(1000, 128)\n",
    "\n",
    "# Variable-length sequence of integers\n",
    "text_input_a = keras.Input(shape=(None,), dtype=\"int32\")\n",
    "\n",
    "# Variable-length sequence of integers\n",
    "text_input_b = keras.Input(shape=(None,), dtype=\"int32\")\n",
    "\n",
    "# Reuse the same layer to encode both inputs\n",
    "encoded_input_a = shared_embedding(text_input_a)\n",
    "encoded_input_b = shared_embedding(text_input_b)"
   ]
  },
  {
   "cell_type": "markdown",
   "metadata": {},
   "source": [
    "## 7.7 Extract and reuse nodes in the graph of layers"
   ]
  },
  {
   "cell_type": "markdown",
   "metadata": {},
   "source": [
    "<font size=\"3\">**Because the graph of layers we are manipulating is a <span style=\"color:#4285F4\">static data structure</span>, it can be accessed and inspected. And this is how you are able to plot functional models as images.**</font> \n",
    " \n",
    "><font size=\"3\">**This also means that we can access the <span style=\"color:#4285F4\">activations</span> of intermediate layers (<span style=\"color:#4285F4\">nodes</span> in the graph) and reuse them elsewhere. This is very useful for something like <span style=\"color:#4285F4\">feature extraction</span>.**</font>"
   ]
  },
  {
   "cell_type": "markdown",
   "metadata": {},
   "source": [
    "<font size=\"3\">**Let's look at an example. This is a <span style=\"color:#4285F4\">VGG19 model</span> with weights pretrained on <span style=\"color:#4285F4\">ImageNet</span>:**</font>"
   ]
  },
  {
   "cell_type": "code",
   "execution_count": 9,
   "metadata": {},
   "outputs": [],
   "source": [
    "import tensorflow as tf\n",
    "from tensorflow import keras\n",
    "\n",
    "vgg19 = tf.keras.applications.VGG19()"
   ]
  },
  {
   "cell_type": "markdown",
   "metadata": {},
   "source": [
    "<font size=\"3\">**The <span style=\"color:#4285F4\">intermediate activations</span> of the model can be obtained by querying the graph data structure.**</font>\n",
    "\n",
    "<font size=\"3\">**These output features can be extracted and used as feature extractors:**</font>"
   ]
  },
  {
   "cell_type": "code",
   "execution_count": null,
   "metadata": {},
   "outputs": [],
   "source": [
    "features_list = [layer.output for layer in vgg19.layers]"
   ]
  },
  {
   "cell_type": "markdown",
   "metadata": {},
   "source": [
    "<font size=\"3\">**Using these output features, we can create a new <span style=\"color:#4285F4\">feature-extraction model</span> that returns the values of the intermediate layer activations:**</font>"
   ]
  },
  {
   "cell_type": "code",
   "execution_count": 12,
   "metadata": {},
   "outputs": [],
   "source": [
    "feat_extraction_model = keras.Model(inputs=vgg19.input, outputs=features_list)"
   ]
  },
  {
   "cell_type": "code",
   "execution_count": null,
   "metadata": {},
   "outputs": [],
   "source": [
    "img = np.random.random((1, 224, 224, 3)).astype(\"float32\")\n",
    "extracted_features = feat_extraction_model(img)"
   ]
  },
  {
   "cell_type": "markdown",
   "metadata": {},
   "source": [
    "<font size=\"3\">**This is very useful for [Transfer Learning](https://keras.io/examples/generative/neural_style_transfer/).**</font>"
   ]
  },
  {
   "cell_type": "markdown",
   "metadata": {},
   "source": [
    "<hr style=\"border:2px solid #E1F6FF\"> </hr>"
   ]
  },
  {
   "cell_type": "markdown",
   "metadata": {},
   "source": [
    "##### This chapter is revised based on the TensorFlow guide (Reference: https://www.tensorflow.org/guide/keras/functional)."
   ]
  },
  {
   "cell_type": "markdown",
   "metadata": {},
   "source": [
    "## Appendix - How to install Graphviz tool and pydot for plot_model"
   ]
  },
  {
   "cell_type": "markdown",
   "metadata": {},
   "source": [
    "1) Download the latest version http://www.graphviz.org/download/\n",
    "\n",
    "2) Install Graphviz into a **specific folder** (e.g. C:\\Program Files (x86)\\Graphviz\\bin)\n",
    "\n",
    "3) Right click **this PC** and select **Properties**\n",
    "\n",
    "4) Click **Advanced System Setting**\n",
    "\n",
    "<img src=\"https://firebasestorage.googleapis.com/v0/b/deep-learning-crash-course.appspot.com/o/7API2.png?alt=media&token=1cf1d241-7607-42d4-bc6e-b747262298f9\" width=\"700\" align=\"center\"/>\n",
    "\n",
    "5) Click **Environment Variables** under **Advanced tab\"\n",
    "\n",
    "<img src=\"https://firebasestorage.googleapis.com/v0/b/deep-learning-crash-course.appspot.com/o/7API3.png?alt=media&token=efb51096-5e57-423a-9fab-d24a91382f0b\" width=\"700\" align=\"center\"/>\n",
    "\n",
    "6) Under **System Variables**, select **Path** and click **Edit**\n",
    "\n",
    "<img src=\"https://firebasestorage.googleapis.com/v0/b/deep-learning-crash-course.appspot.com/o/7API4.png?alt=media&token=c77e1669-18e3-4ecf-8f96-5daf7350ff6b\" width=\"700\" align=\"center\"/>\n",
    "\n",
    "7) Click **New** and input the **Path** stated in step 2, (e.g. C:\\Program Files (x86)\\Graphviz\\bin)\n",
    "\n",
    "<img src=\"https://firebasestorage.googleapis.com/v0/b/deep-learning-crash-course.appspot.com/o/7API5.png?alt=media&token=b37a5899-ea48-44bf-bcee-2bbd2aa19b6e\" width=\"700\" align=\"center\"/>\n",
    "\n",
    "8) **pip install pydot** (or **pip install pydot-ng** or **pip install pydotplus**)"
   ]
  },
  {
   "cell_type": "code",
   "execution_count": null,
   "metadata": {},
   "outputs": [],
   "source": []
  }
 ],
 "metadata": {
  "kernelspec": {
   "display_name": "Python 3 (ipykernel)",
   "language": "python",
   "name": "python3"
  },
  "language_info": {
   "codemirror_mode": {
    "name": "ipython",
    "version": 3
   },
   "file_extension": ".py",
   "mimetype": "text/x-python",
   "name": "python",
   "nbconvert_exporter": "python",
   "pygments_lexer": "ipython3",
   "version": "3.8.8"
  }
 },
 "nbformat": 4,
 "nbformat_minor": 2
}
