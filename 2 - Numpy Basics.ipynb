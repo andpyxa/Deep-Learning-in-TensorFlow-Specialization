{
 "cells": [
  {
   "cell_type": "markdown",
   "metadata": {},
   "source": [
    "<img src=\"https://firebasestorage.googleapis.com/v0/b/deep-learning-crash-course.appspot.com/o/Logo.png?alt=media&token=06318ee3-d7a0-44a0-97ae-2c95f110e3ac\" width=\"100\" height=\"100\" align=\"right\"/>"
   ]
  },
  {
   "cell_type": "markdown",
   "metadata": {},
   "source": [
    "## 2 Numpy Basics"
   ]
  },
  {
   "cell_type": "markdown",
   "metadata": {},
   "source": [
    "## 2.1 Tensors and Numpy\n",
    "<img src=\"https://firebasestorage.googleapis.com/v0/b/deep-learning-crash-course.appspot.com/o/2Numpy.png?alt=media&token=fc8f3815-66d0-47df-ab28-3d053c42e00e\" width=\"200\" height=\"200\" align=\"right\"/>"
   ]
  },
  {
   "cell_type": "markdown",
   "metadata": {},
   "source": [
    "### <font color='Orange'> Tensors </font>\n",
    "> <font size=\"3\">**Mathematically, a tensor is a generalization of vectors and matrices. Within the context of TensorFlow, a tensor is considered as a multi-dimensional array.\n",
    "<br>\n",
    "<br>\n",
    "With the use of <span style=\"background-color: #ECECEC; color:#0047bb\">.numpy()</span> method, tensors can be explicilty converted to Numpy ndarrays objects into tf.Tensor objects. \n",
    "<br>\n",
    "<br>\n",
    "Similar to Numpy ndarray objects, tf.Tensor objects have a data type and a shape. Their mathematical operations are also similar to each other.\n",
    "<br>\n",
    "<br>\n",
    "Unlike Numpy arrays, tf.Tensors can be backed by accelerator memory (GPU, TPU).**</font>\n",
    "\n",
    "<font size=\"3\">**TensorFlow offers a rich library of operations that consume and produce tf.Tensors, such as <span style=\"background-color: #ECECEC; color:#0047bb\">tf.add</span>, <span style=\"background-color: #ECECEC; color:#0047bb\">tf.matmul</span>, and <span style=\"background-color: #ECECEC; color:#0047bb\">tf.linalg.inv</span>. These operations automatically convert native Python types.**</font>\n",
    "\n",
    "Reference: https://www.tensorflow.org/about"
   ]
  },
  {
   "cell_type": "markdown",
   "metadata": {},
   "source": [
    "### <font color='#176BEF'> Examples </font>\n",
    "<hr style=\"border:2px solid #E1F6FF\"> </hr>"
   ]
  },
  {
   "cell_type": "code",
   "execution_count": null,
   "metadata": {},
   "outputs": [],
   "source": [
    "import tensorflow as tf\n",
    "\n",
    "print(tf.add([1, 3], [5, 7]))\n",
    "\n",
    "a = tf.constant([1, 3], shape=[1, 2])\n",
    "b = tf.constant([5, 7], shape=[2, 1])\n",
    "\n",
    "print(tf.matmul(a, b))"
   ]
  },
  {
   "cell_type": "markdown",
   "metadata": {},
   "source": [
    "<hr style=\"border:2px solid #E1F6FF\"> </hr>"
   ]
  },
  {
   "cell_type": "markdown",
   "metadata": {},
   "source": [
    "## 2.2 Numpy - Axis, Rank & Dimension"
   ]
  },
  {
   "cell_type": "markdown",
   "metadata": {},
   "source": [
    "<img src=\"https://firebasestorage.googleapis.com/v0/b/deep-learning-crash-course.appspot.com/o/2NumpyDimension.png?alt=media&token=07ff02d0-2499-40ff-b5de-46c03bcb01e7\" width=\"600\" align=\"center\"/>"
   ]
  },
  {
   "cell_type": "markdown",
   "metadata": {},
   "source": [
    "<font size=\"3\">**In Python, List and Tuple can be stored in an array which can be 1D, 2D or even higher in dimension.\n",
    "<br>\n",
    "<br>\n",
    "To improve the computational efficiency, Numpy requires each array with fixed structure. Such structure is defined by <span style=\"background-color: #ECECEC; color:#0047bb\">.shape</span>.**</font>"
   ]
  },
  {
   "cell_type": "markdown",
   "metadata": {},
   "source": [
    "### <font color='#176BEF'> Examples </font>\n",
    "<hr style=\"border:2px solid #E1F6FF\"> </hr>"
   ]
  },
  {
   "cell_type": "code",
   "execution_count": null,
   "metadata": {},
   "outputs": [],
   "source": [
    "import numpy as np\n",
    "\n",
    "arr_1D = np.array([1, 2, 3, 4])\n",
    "print(arr_1D.shape)\n",
    "\n",
    "arr_2D = np.array([[1, 2], [3, 4]])\n",
    "print(arr_2D.shape)"
   ]
  },
  {
   "cell_type": "markdown",
   "metadata": {},
   "source": [
    "<img src=\"https://firebasestorage.googleapis.com/v0/b/deep-learning-crash-course.appspot.com/o/2Numpy3Dexplain.png?alt=media&token=acf5b8be-e917-4e42-b89a-0fbd9a335cfd\" width=\"600\" align=\"center\"/>"
   ]
  },
  {
   "cell_type": "code",
   "execution_count": null,
   "metadata": {},
   "outputs": [],
   "source": [
    "arr_3D = np.array(   [   [[1, 2], [3, 4]]  ,  [[1, 2], [3, 4]]  ,  [[1, 2], [3, 4]]   ]   )\n",
    "print(arr_3D.shape)"
   ]
  },
  {
   "cell_type": "markdown",
   "metadata": {},
   "source": [
    "<hr style=\"border:2px solid #E1F6FF\"> </hr>"
   ]
  },
  {
   "cell_type": "markdown",
   "metadata": {},
   "source": [
    "<font size=\"5\"><span style=\"background-color:#EA4335; color:white\">&nbsp;!&nbsp;</span></font> \n",
    "<font size=\"3\">**Elements from LEFT to RIGHT in the <span style=\"background-color: #ECECEC; color:#0047bb\">.shape</span> represent the layers of array from OUTSIDE to INSIDE.**</font>\n",
    "<br>\n",
    "<br>\n",
    "<font size=\"3\">**For examples**</font>\n",
    "><font size=\"3\">**<span style=\"background-color: #ECECEC; color:#0047bb\">.shape</span> (2,3) represents that there are 2 subarrays. Inside each of the 2 subarrays, there are 3 elements.**</font>\n",
    "<br>\n",
    "<br>\n",
    "><font size=\"3\">**<span style=\"background-color: #ECECEC; color:#0047bb\">.shape</span> (2,3,4) represents that there are 2 subarrays. Inside each of the 2 subarrays, there are another 3 subarrays. Inside each of the 3 subarrays, there are 4 elements.**</font>"
   ]
  },
  {
   "cell_type": "markdown",
   "metadata": {},
   "source": [
    "<font size=\"3\">**In Numpy, dimensions are called axes. The number of axes is rank. In each of the axis, the number of elements are called dimension or length. For example, the <span style=\"background-color: #ECECEC; color:#0047bb\">.shape</span> of a [[1,2,3], [4,5,6]] Numpy array is (2,3). Therefore, it has two axes. In the first axis (i.e. axis-0), it has 2 dimensions. In the second axis (i.e. axis-1), it has 3 dimensions.**</font>\n",
    "    \n",
    "<font size=\"3\">**We typically refer 1D array as a vector and 2D array as a matrix. Hence, <span style=\"background-color: #ECECEC; color:#0047bb\">.shape</span> (4,) is 4 dimensions vector and <span style=\"background-color: #ECECEC; color:#0047bb\">.shape</span> (2,2) is a 2X2 matrix.**</font>\n",
    "    \n",
    "<font size=\"5\"><span style=\"background-color:#EA4335; color:white\">&nbsp;!&nbsp;</span></font>\n",
    "<font size=\"3\">**To avoid any confusion, we follow Numpy's logics, i.e. 1D is an array with 1 axis, 2D is an array with 2 axes, 3D is an array with 3 axes, and so on.**</font>"
   ]
  },
  {
   "cell_type": "markdown",
   "metadata": {},
   "source": [
    "## 2.3 Numpy - Properties and Attributes"
   ]
  },
  {
   "cell_type": "markdown",
   "metadata": {},
   "source": [
    "### <font color='Orange'> Numpy Properties </font>\n",
    "> <font size=\"3\">**Less memory and more efficient** - Numpy arrays require less memory and facilitate advanced mathematical and other types of operations on large numbers of data. Typically, such operations are executed more efficiently and with less code than is possible using Python’s built-in sequences.</font>\n",
    "\n",
    "> <font size=\"3\">**Same data type** - The elements in a Numpy array are all required to be of the same data type, unlike Python lists or tuples.</font>\n",
    "\n",
    "> <font size=\"3\">**Same number of elements in each axis** - The number of elements in a Numpy arrays are all required to be the same, unlike Python lists or tuples.</font>\n",
    "\n",
    "> <font size=\"3\">**Fixed size at creation** - Numpy arrays have a fixed size at creation, unlike Python lists or tuples. Changing the size of an ndarray will create a new array and delete the original.</font>\n",
    "\n",
    "Reference: https://numpy.org/doc/stable/user/whatisnumpy.html"
   ]
  },
  {
   "cell_type": "markdown",
   "metadata": {},
   "source": [
    "### <font color='Orange'> Numpy Attributes </font>\n",
    "><font size=\"3\">**<span style=\"background-color: #ECECEC; color:#0047bb\">.ndim</span>** - Number of array dimensions</font>\n",
    "<br>\n",
    "<br>\n",
    "><font size=\"3\">**<span style=\"background-color: #ECECEC; color:#0047bb\">.shape</span>** - Tuple of array dimensions</font>\n",
    "<br>\n",
    "<br>\n",
    "><font size=\"3\">**<span style=\"background-color: #ECECEC; color:#0047bb\">.size</span>** - Number of elements in the array</font>\n",
    "<br>\n",
    "<br>\n",
    "><font size=\"3\">**<span style=\"background-color: #ECECEC; color:#0047bb\">.dtype</span>** - Return the data type of an array’s elements</font>"
   ]
  },
  {
   "cell_type": "markdown",
   "metadata": {},
   "source": [
    "### <font color='#176BEF'> Examples </font>\n",
    "<hr style=\"border:2px solid #E1F6FF\"> </hr>"
   ]
  },
  {
   "cell_type": "code",
   "execution_count": null,
   "metadata": {},
   "outputs": [],
   "source": [
    "import numpy as np\n",
    "\n",
    "x = np.array(   [   [[1, 2], [3, 4]]  ,  [[1, 2], [3, 4]]  ,  [[1, 2], [3, 4]]   ]   )\n",
    "\n",
    "print(\"The number of axis is\", x.ndim)\n",
    "print(\"The shape is\", x.shape)\n",
    "print(\"The size is\", x.size)\n",
    "print(\"The data type is\", x.dtype)"
   ]
  },
  {
   "cell_type": "markdown",
   "metadata": {},
   "source": [
    "<font size=\"3\">**<span style=\"background-color: #ECECEC; color:#0047bb\">.astype</span>** casts an array’s elements to a specified type</font>"
   ]
  },
  {
   "cell_type": "code",
   "execution_count": null,
   "metadata": {},
   "outputs": [],
   "source": [
    "y = x.astype('float')\n",
    "print(\"The data type of x is\", x.dtype)\n",
    "print(\"The data type of y is\", y.dtype)"
   ]
  },
  {
   "cell_type": "markdown",
   "metadata": {},
   "source": [
    "<hr style=\"border:2px solid #E1F6FF\"> </hr>"
   ]
  },
  {
   "cell_type": "markdown",
   "metadata": {},
   "source": [
    "## 2.4 Numpy - Array Creation"
   ]
  },
  {
   "cell_type": "markdown",
   "metadata": {},
   "source": [
    "<font size=\"3\">**In Numpy, there are different mechanisms for creating arrays. This part will cover three commonly used methods for ndarray creation.**</font>\n",
    "\n",
    "> <font size=\"3\">**1. Converting Python sequences to Numpy arrays**</font>\n",
    "<br>\n",
    "> <font size=\"3\">**2. Intrinsic Numpy array creation functions (e.g. arrange, ones, zeros, etc)**</font>\n",
    "<br>\n",
    "> <font size=\"3\">**3. Replicating, joining, or mutating existing arrays**</font>\n",
    "\n",
    "Reference: https://numpy.org/doc/stable/user/basics.creation.html"
   ]
  },
  {
   "cell_type": "markdown",
   "metadata": {},
   "source": [
    "### <font color='#176BEF'> Examples </font>\n",
    "<hr style=\"border:2px solid #E1F6FF\"> </hr>"
   ]
  },
  {
   "cell_type": "code",
   "execution_count": null,
   "metadata": {},
   "outputs": [],
   "source": [
    "import numpy as np\n",
    "\n",
    "List = [1, 2, 3, 4]\n",
    "print(List, type(List))\n",
    "\n",
    "arr_1D = np.array([1, 2, 3, 4])\n",
    "print(arr_1D, type(arr_1D))"
   ]
  },
  {
   "cell_type": "code",
   "execution_count": null,
   "metadata": {},
   "outputs": [],
   "source": [
    "List_of_list = [[1, 2], [3, 4]]\n",
    "print(List_of_list, type(List_of_list))\n",
    "\n",
    "arr_2D = np.array([[1, 2], [3, 4]])\n",
    "print(arr_2D, type(arr_2D))"
   ]
  },
  {
   "cell_type": "code",
   "execution_count": null,
   "metadata": {},
   "outputs": [],
   "source": [
    "arr_range = np.arange(10)\n",
    "print(arr_range, type(arr_range))"
   ]
  },
  {
   "cell_type": "code",
   "execution_count": null,
   "metadata": {},
   "outputs": [],
   "source": [
    "arr_zeros = np.zeros((2,2))\n",
    "print(arr_zeros, type(arr_zeros))"
   ]
  },
  {
   "cell_type": "code",
   "execution_count": null,
   "metadata": {},
   "outputs": [],
   "source": [
    "arr_identity = np.eye(3)\n",
    "print(arr_identity, type(arr_identity))"
   ]
  },
  {
   "cell_type": "code",
   "execution_count": null,
   "metadata": {},
   "outputs": [],
   "source": [
    "# Create an array x, with a reference y\n",
    "x = np.array([1, 2, 3])\n",
    "y = x[1:3]\n",
    "x += 10 \n",
    "print('x =', x, '; y =', y)"
   ]
  },
  {
   "cell_type": "code",
   "execution_count": null,
   "metadata": {},
   "outputs": [],
   "source": [
    "# Create an array x, with a copy z\n",
    "x = np.array([1, 2, 3])\n",
    "z = x[1:3].copy()\n",
    "x += 10 \n",
    "print('x =', x, '; z =', z)"
   ]
  },
  {
   "cell_type": "code",
   "execution_count": null,
   "metadata": {},
   "outputs": [],
   "source": [
    "# Vectical Stack\n",
    "arr_vs = np.vstack((y,z))\n",
    "print(arr_vs, arr_vs.shape)"
   ]
  },
  {
   "cell_type": "code",
   "execution_count": null,
   "metadata": {},
   "outputs": [],
   "source": [
    "# Horizontal Stack\n",
    "arr_hs = np.hstack((y,z))\n",
    "print(arr_hs, arr_hs.shape)"
   ]
  },
  {
   "cell_type": "markdown",
   "metadata": {},
   "source": [
    "<hr style=\"border:2px solid #E1F6FF\"> </hr>"
   ]
  },
  {
   "cell_type": "markdown",
   "metadata": {},
   "source": [
    "## 2.5 Numpy - Indexing and Slicing"
   ]
  },
  {
   "cell_type": "markdown",
   "metadata": {},
   "source": [
    "<font size=\"3\">**Numpy array can be indexed using the standard Python syntax <span style=\"background-color: #ECECEC; color:#0047bb\">x[obj]</span>. There are two main types of indexing available:  basic slicing and advanced indexing.**</font>\n",
    "\n",
    "### <font color='Orange'> Basic slicing </font>\n",
    "> <font size=\"3\">**Basic slicing extends Python’s basic concept of slicing to N dimensions. It occurs when <span style=\"background-color: #ECECEC; color:#0047bb\">obj</span> is a slice object (constructed by start:stop:step notation inside of brackets), an integer, or a tuple of slice objects and integers.**</font>\n",
    "<br>\n",
    "### <font color='Orange'> Advanced Indexing </font>\n",
    "> <font size=\"3\">**Advanced indexing is triggered when the selection object, <span style=\"background-color: #ECECEC; color:#0047bb\">obj</span>, is a non-tuple sequence object, an ndarray (of data type integer or bool), or a tuple with at least one sequence object or ndarray (of data type integer or bool). There are two types of advanced indexing: integer and boolean.**</font>\n",
    "\n",
    "Reference: https://numpy.org/doc/stable/reference/arrays.indexing.html"
   ]
  },
  {
   "cell_type": "markdown",
   "metadata": {},
   "source": [
    "### <font color='#176BEF'> Examples </font>\n",
    "<hr style=\"border:2px solid #E1F6FF\"> </hr>"
   ]
  },
  {
   "cell_type": "code",
   "execution_count": null,
   "metadata": {},
   "outputs": [],
   "source": [
    "# Basic slice syntax is i:j:k where i is the starting index, j is the stopping index, and k is the step (). \n",
    "\n",
    "import numpy as np\n",
    "\n",
    "x = np.array([0, 1, 2, 3, 4, 5, 6, 7, 8, 9])\n",
    "\n",
    "print(\"Positive Slicing without Step\", x[1:7])\n",
    "print(\"Positive Slicing with Step\", x[1:7:2])"
   ]
  },
  {
   "cell_type": "code",
   "execution_count": null,
   "metadata": {},
   "outputs": [],
   "source": [
    "print(\"Negative Slicing without Step\", x[-7:10])\n",
    "print(\"Negative Slicing with Step\", x[-7:10:2])"
   ]
  },
  {
   "cell_type": "code",
   "execution_count": null,
   "metadata": {},
   "outputs": [],
   "source": [
    "print(\"Positive Slicing by Default i\", x[:7])\n",
    "print(\"Positive Slicing by Default j\", x[7:])\n",
    "print(\"Positive Slicing by Default k\", x[1:7])"
   ]
  },
  {
   "cell_type": "code",
   "execution_count": null,
   "metadata": {},
   "outputs": [],
   "source": [
    "# Advance slice syntax applies the row index and column index to choose for the corresponding elements.\n",
    "\n",
    "x = np.array([[0, 1, 2], [3, 4, 5], [6, 7, 8]])\n",
    "\n",
    "print(x)\n",
    "\n",
    "print(x[0,0], x[1,1], x[2,0])\n",
    "\n",
    "print(x[0][0], x[1][1], x[2][0])\n",
    "\n",
    "print(x[[0, 1, 2], [0, 1, 0]], \"   Remarks: this returns a list\") "
   ]
  },
  {
   "cell_type": "code",
   "execution_count": null,
   "metadata": {},
   "outputs": [],
   "source": [
    "rows = np.array([[0,0], [2,2]])\n",
    "columns = np.array([[0,1], [0,1]])\n",
    "\n",
    "print(rows)\n",
    "\n",
    "print(columns)\n",
    "\n",
    "print(x[rows, columns], \"   Remarks: this returns a nested list\")"
   ]
  },
  {
   "cell_type": "code",
   "execution_count": null,
   "metadata": {},
   "outputs": [],
   "source": [
    "conditions = np.where(x>2)\n",
    "\n",
    "print(conditions, \"   Remarks: this returns row index array and column index array\")\n",
    "\n",
    "print(\"x larger than 2 = \", x[conditions])"
   ]
  },
  {
   "cell_type": "code",
   "execution_count": null,
   "metadata": {},
   "outputs": [],
   "source": [
    "print(np.where(x>2, x, np.nan), \"   Remarks: this returns the same dimensionality by filling values\")"
   ]
  },
  {
   "cell_type": "markdown",
   "metadata": {},
   "source": [
    "<hr style=\"border:2px solid #E1F6FF\"> </hr>"
   ]
  },
  {
   "cell_type": "markdown",
   "metadata": {},
   "source": [
    "## 2.6 Numpy - Shape Manipulation"
   ]
  },
  {
   "cell_type": "markdown",
   "metadata": {},
   "source": [
    "<font size=\"3\">**An array has a shape given by the number of elements along each axis. The shape of an array can be changed with various commands, but the number of elements doesn't change.**</font>\n",
    "\n",
    "><font size=\"3\">**<span style=\"background-color: #ECECEC; color:#0047bb\">.reshape</span>** - Gives a new shape to an array without changing its data.</font>\n",
    "<br>\n",
    "<br>\n",
    "><font size=\"3\">**<span style=\"background-color: #ECECEC; color:#0047bb\">.transpose</span>** - Reverse or permute the axes of an array; returns the modified array.</font>\n",
    "<br>\n",
    "<br>\n",
    "><font size=\"3\">**<span style=\"background-color: #ECECEC; color:#0047bb\">.vstack</span>** - Stack arrays in sequence vertically (row-wise).</font>\n",
    "<br>\n",
    "<br>\n",
    "><font size=\"3\">**<span style=\"background-color: #ECECEC; color:#0047bb\">.hstack</span>** - Stack arrays in sequence horizontally (column-wise).</font>\n",
    "<br>\n",
    "<br>\n",
    "><font size=\"3\">**<span style=\"background-color: #ECECEC; color:#0047bb\">.vsplit</span>** - Split an array into multiple sub-arrays vertically (row-wise).</font>\n",
    "<br>\n",
    "<br>\n",
    "><font size=\"3\">**<span style=\"background-color: #ECECEC; color:#0047bb\">.hsplit</span>** - Split an array into multiple sub-arrays horizontally (column-wise).</font>\n",
    "<br>\n",
    "\n",
    "Reference: https://numpy.org/doc/stable/user/quickstart.html"
   ]
  },
  {
   "cell_type": "markdown",
   "metadata": {},
   "source": [
    "### <font color='#176BEF'> Examples </font>\n",
    "<hr style=\"border:2px solid #E1F6FF\"> </hr>"
   ]
  },
  {
   "cell_type": "code",
   "execution_count": null,
   "metadata": {},
   "outputs": [],
   "source": [
    "import numpy as np\n",
    "\n",
    "x = np.array([[0, 1, 2], [3, 4, 5], [6, 7, 8], [9, 10, 11]])\n",
    "y = np.reshape(x, (2,6))\n",
    "z = np.reshape(x, (3,4))\n",
    "\n",
    "print(\"The original shape of x is\" , x.shape)\n",
    "print(\"The original shape of y is\" , y.shape)\n",
    "print(\"The original shape of z is\" , z.shape)"
   ]
  },
  {
   "cell_type": "code",
   "execution_count": null,
   "metadata": {},
   "outputs": [],
   "source": [
    "print(\"The tranpose of x is: \\n\" , np.transpose(x))\n",
    "\n",
    "print(\"The tranpose of x is: \\n\" , np.transpose(x).shape)"
   ]
  },
  {
   "cell_type": "code",
   "execution_count": null,
   "metadata": {},
   "outputs": [],
   "source": [
    "x = np.array([[0, 1, 2], [3, 4, 5]])\n",
    "y = np.array([[6, 7, 8], [9, 10, 11]])\n",
    "\n",
    "print(x, x.shape)\n",
    "print(y, y.shape)\n",
    "\n",
    "print(\"The result of horizontal stack: \\n\", np.hstack((x,y)), np.hstack((x,y)).shape)\n",
    "print(\"The result of horizontal stack: \\n\", np.vstack((x,y)), np.vstack((x,y)).shape)"
   ]
  },
  {
   "cell_type": "code",
   "execution_count": null,
   "metadata": {},
   "outputs": [],
   "source": [
    "x = np.array([[0, 1, 2, 3], [4, 5, 6, 7], [8, 9, 10, 11], [12, 13, 14, 15]])\n",
    "\n",
    "print(\"The result of horizontal split: \\n\", np.hsplit(x, 2))\n",
    "print(np.hsplit(x, 2)[0])\n",
    "print(np.hsplit(x, 2)[1])"
   ]
  },
  {
   "cell_type": "code",
   "execution_count": null,
   "metadata": {},
   "outputs": [],
   "source": [
    "print(\"The result of vectical split: \\n\", np.vsplit(x, 2))\n",
    "print(np.vsplit(x, 2)[0])\n",
    "print(np.vsplit(x, 2)[1])\n"
   ]
  },
  {
   "cell_type": "markdown",
   "metadata": {},
   "source": [
    "<hr style=\"border:2px solid #E1F6FF\"> </hr>"
   ]
  },
  {
   "cell_type": "markdown",
   "metadata": {},
   "source": [
    "## 2.7 Numpy - Element-wise VS Broadcasting"
   ]
  },
  {
   "cell_type": "markdown",
   "metadata": {},
   "source": [
    "### <font color='Orange'> Element-wise </font>\n",
    "> <font size=\"3\">**Numpy operations are usually done on pairs of arrays on an element-wise basis. In the simplest case, the two arrays must have exactly the same shape.**</font>\n",
    "\n"
   ]
  },
  {
   "cell_type": "code",
   "execution_count": null,
   "metadata": {},
   "outputs": [],
   "source": [
    "import numpy as np\n",
    "\n",
    "x=np.array([1, 2, 3])\n",
    "y=np.array([2, 2, 2])\n",
    "\n",
    "print(x*y)"
   ]
  },
  {
   "cell_type": "markdown",
   "metadata": {},
   "source": [
    "### <font color='Orange'> Broadcasting </font>\n",
    "> <font size=\"3\">**Numpy’s broadcasting rule relaxes this constraint when the arrays’ shapes meet certain constraints. The simplest broadcasting example occurs when an array and a scalar value are combined in an operation.**\n"
   ]
  },
  {
   "cell_type": "code",
   "execution_count": null,
   "metadata": {},
   "outputs": [],
   "source": [
    "x=np.array([1, 2, 3])\n",
    "y=2\n",
    "\n",
    "print(x*y)"
   ]
  },
  {
   "cell_type": "markdown",
   "metadata": {},
   "source": [
    "<font size=\"3\">**Broadcasting two arrays together follows these rules:**\n",
    "> <font size=\"3\">**1. If the arrays do not have the same rank, prepend the shape of the lower rank array with 1s until both shapes have the same length.**</font> <br>\n",
    "> <font size=\"3\">**2. The two arrays are said to be compatible in a dimension if they have the same size in the dimension, or if one of the arrays has size 1 in that dimension.**</font><br>\n",
    "> <font size=\"3\">**3. The arrays can be broadcast together if they are compatible in all dimensions.**</font>  <br>\n",
    "> <font size=\"3\">**4. After broadcasting, each array behaves as if it had shape equal to the elementwise maximum of shapes of the two input arrays.**</font><br>\n",
    "> <font size=\"3\">**5. In any dimension where one array had size 1 and the other array had size greater than 1, the first array behaves as if it were copied along that dimension**</font>"
   ]
  },
  {
   "cell_type": "markdown",
   "metadata": {},
   "source": [
    "### <font color='#176BEF'> Examples </font>\n",
    "<hr style=\"border:2px solid #E1F6FF\"> </hr>"
   ]
  },
  {
   "cell_type": "code",
   "execution_count": null,
   "metadata": {},
   "outputs": [],
   "source": [
    "import numpy as np\n",
    "\n",
    "a = np.array([[0, 1], [2, 3]])\n",
    "print(a.shape)"
   ]
  },
  {
   "cell_type": "code",
   "execution_count": null,
   "metadata": {},
   "outputs": [],
   "source": [
    "b = np.array([4, 5])\n",
    "print(b.shape)"
   ]
  },
  {
   "cell_type": "markdown",
   "metadata": {},
   "source": [
    "> <font size=\"3\">**1. If the arrays do not have the same rank, prepend the shape of the lower rank array with 1s until both shapes have the same length.**</font> <br>"
   ]
  },
  {
   "cell_type": "code",
   "execution_count": null,
   "metadata": {},
   "outputs": [],
   "source": [
    "b = np.array([[4, 5]])\n",
    "print(b.shape)\n",
    "\n",
    "print([b, b])"
   ]
  },
  {
   "cell_type": "markdown",
   "metadata": {},
   "source": [
    "> <font size=\"3\">**2. The two arrays are said to be compatible in a dimension if they have the same size in the dimension, or if one of the arrays has size 1 in that dimension.**</font><br>\n",
    "> <font size=\"3\">**3. The arrays can be broadcast together if they are compatible in all dimensions.**</font>  <br>"
   ]
  },
  {
   "cell_type": "code",
   "execution_count": null,
   "metadata": {},
   "outputs": [],
   "source": [
    "c=a+b\n",
    "print(c)\n",
    "print(c.shape)"
   ]
  },
  {
   "cell_type": "markdown",
   "metadata": {},
   "source": [
    "> <font size=\"3\">**4. After broadcasting, each array behaves as if it had shape equal to the element-wise maximum of shapes of the two input arrays.**</font><br>\n",
    "> <font size=\"3\">**5. In any dimension where one array had size 1 and the other array had size greater than 1, the first array behaves as if it were copied along that dimension**</font>"
   ]
  },
  {
   "cell_type": "code",
   "execution_count": null,
   "metadata": {},
   "outputs": [],
   "source": [
    "a = np.array([[[0, 1], [2, 3]], [[10, 11], [12, 13]]])\n",
    "print(a.shape)"
   ]
  },
  {
   "cell_type": "code",
   "execution_count": null,
   "metadata": {},
   "outputs": [],
   "source": [
    "b = np.array([4, 5])\n",
    "print(b.shape)"
   ]
  },
  {
   "cell_type": "markdown",
   "metadata": {},
   "source": [
    "> <font size=\"3\">**1. If the arrays do not have the same rank, prepend the shape of the lower rank array with 1s until both shapes have the same length.**</font> <br>"
   ]
  },
  {
   "cell_type": "code",
   "execution_count": null,
   "metadata": {},
   "outputs": [],
   "source": [
    "b = np.array([[[4, 5]]])\n",
    "print(b.shape)"
   ]
  },
  {
   "cell_type": "markdown",
   "metadata": {},
   "source": [
    "> <font size=\"3\">**2. The two arrays are said to be compatible in a dimension if they have the same size in the dimension, or if one of the arrays has size 1 in that dimension.**</font><br>\n",
    "> <font size=\"3\">**3. The arrays can be broadcast together if they are compatible in all dimensions.**</font>  <br>"
   ]
  },
  {
   "cell_type": "code",
   "execution_count": null,
   "metadata": {},
   "outputs": [],
   "source": [
    "c=a+b\n",
    "print(c)\n",
    "print(c.shape)"
   ]
  },
  {
   "cell_type": "markdown",
   "metadata": {},
   "source": [
    "> <font size=\"3\">**4. After broadcasting, each array behaves as if it had shape equal to the element-wise maximum of shapes of the two input arrays.**</font><br>\n",
    "> <font size=\"3\">**5. In any dimension where one array had size 1 and the other array had size greater than 1, the first array behaves as if it were copied along that dimension**</font>"
   ]
  },
  {
   "cell_type": "markdown",
   "metadata": {},
   "source": [
    "<img src=\"https://firebasestorage.googleapis.com/v0/b/deep-learning-crash-course.appspot.com/o/2NumpyBroadcasting.png?alt=media&token=aa6e483e-1a76-4c13-9ea3-8a60d7f309e6\" width=\"800\" align=\"center\"/>"
   ]
  },
  {
   "cell_type": "markdown",
   "metadata": {},
   "source": [
    "<hr style=\"border:2px solid #E1F6FF\"> </hr>"
   ]
  },
  {
   "cell_type": "markdown",
   "metadata": {},
   "source": [
    "## 2.8 Numpy - Aggregate and Statistical Functions"
   ]
  },
  {
   "cell_type": "markdown",
   "metadata": {},
   "source": [
    "<font size=\"3\">**Numpy has fast built-in aggregation and statistical functions for working on arrays, which includes:**</font>\n",
    "\n",
    "><font size=\"3\">**<span style=\"background-color: #ECECEC; color:#0047bb\">.mean()</span>** - Compute the arithmetic mean along the specified axis.</font>\n",
    "<br>\n",
    "<br>\n",
    "><font size=\"3\">**<span style=\"background-color: #ECECEC; color:#0047bb\">.std()</span>** - Compute the standard deviation along the specified axis.</font>\n",
    "<br>\n",
    "<br>\n",
    "><font size=\"3\">**<span style=\"background-color: #ECECEC; color:#0047bb\">.var()</span>** - Compute the variance along the specified axis.</font>\n",
    "<br>\n",
    "<br>\n",
    "><font size=\"3\">**<span style=\"background-color: #ECECEC; color:#0047bb\">.sum()</span>** - Sum of array elements over a given axis.</font>\n",
    "<br>\n",
    "<br>\n",
    "><font size=\"3\">**<span style=\"background-color: #ECECEC; color:#0047bb\">.cumsum()</span>** - Return the cumulative sum of the elements along a given axis.</font>\n",
    "<br>\n",
    "<br>\n",
    "><font size=\"3\">**<span style=\"background-color: #ECECEC; color:#0047bb\">.cumprod()</span>** -  Return the cumulative product of elements along a given axis</font>\n",
    "<br>\n",
    "<br>\n",
    "><font size=\"3\">**<span style=\"background-color: #ECECEC; color:#0047bb\">.min()</span>** - Return the minimum along a given axis.</font>\n",
    "<br>\n",
    "<br>\n",
    "><font size=\"3\">**<span style=\"background-color: #ECECEC; color:#0047bb\">.max()</span>** - Return the maximum along a given axis.</font>\n",
    "<br>\n",
    "<br>\n",
    "><font size=\"3\">**<span style=\"background-color: #ECECEC; color:#0047bb\">.argmin()</span>** - Returns the indices of the minimum values along an axis.</font>\n",
    "<br>\n",
    "<br>\n",
    "><font size=\"3\">**<span style=\"background-color: #ECECEC; color:#0047bb\">.argmax()</span>** - Returns the indices of the maximum values along an axis.</font>\n",
    "<br>\n",
    "<br>\n",
    "><font size=\"3\">**<span style=\"background-color: #ECECEC; color:#0047bb\">.all()</span>** - Test whether all array elements along a given axis evaluate to True.</font>\n",
    "<br>\n",
    "<br>\n",
    "><font size=\"3\">**<span style=\"background-color: #ECECEC; color:#0047bb\">.any()</span>** - Test whether any array element along a given axis evaluates to True.</font>\n",
    "<br>\n",
    "\n",
    "Reference: https://www.pythonprogramming.in/numpy-aggregate-and-statistical-functions.html"
   ]
  },
  {
   "cell_type": "markdown",
   "metadata": {},
   "source": [
    "### <font color='#176BEF'> Examples </font>\n",
    "<hr style=\"border:2px solid #E1F6FF\"> </hr>"
   ]
  },
  {
   "cell_type": "code",
   "execution_count": null,
   "metadata": {},
   "outputs": [],
   "source": [
    "import numpy as np\n",
    "\n",
    "x = np.array([[1, 2, 3], [4, 5, 6]])\n",
    "\n",
    "print(\"Mean:\", np.mean(x))\n",
    "print(\"Vertical Mean:\", np.mean(x, axis=0))\n",
    "print(\"Horizontal Mean:\", np.mean(x, axis=1))"
   ]
  },
  {
   "cell_type": "code",
   "execution_count": null,
   "metadata": {},
   "outputs": [],
   "source": [
    "print(\"Standard Deviation:\", np.std(x))\n",
    "print(\"Vertical Standard Deviation:\", np.std(x, axis=0))\n",
    "print(\"Horizontal Standard Deviation:\", np.std(x, axis=1))"
   ]
  },
  {
   "cell_type": "code",
   "execution_count": null,
   "metadata": {},
   "outputs": [],
   "source": [
    "print(\"Variance:\", np.var(x))\n",
    "print(\"Vertical Variance:\", np.var(x, axis=0))\n",
    "print(\"Horizontal Variance:\", np.var(x, axis=1))"
   ]
  },
  {
   "cell_type": "code",
   "execution_count": null,
   "metadata": {},
   "outputs": [],
   "source": [
    "print(\"Sum:\", np.sum(x))\n",
    "print(\"Vertical Sum:\", np.sum(x, axis=0))\n",
    "print(\"Horizontal Sum:\", np.sum(x, axis=1))"
   ]
  },
  {
   "cell_type": "code",
   "execution_count": null,
   "metadata": {},
   "outputs": [],
   "source": [
    "print(\"Product:\", np.prod(x))\n",
    "print(\"Vertical Product:\", np.prod(x, axis=0))\n",
    "print(\"Horizontal Product:\", np.prod(x, axis=1))"
   ]
  },
  {
   "cell_type": "code",
   "execution_count": null,
   "metadata": {},
   "outputs": [],
   "source": [
    "print(x)\n",
    "\n",
    "print(\"Cumulative Sum:\", np.cumsum(x))\n",
    "print(\"Vertical Cumulative Sum:\", np.cumsum(x, axis=0))\n",
    "print(\"Horizontal Cumulative Sum:\", np.cumsum(x, axis=1))"
   ]
  },
  {
   "cell_type": "code",
   "execution_count": null,
   "metadata": {},
   "outputs": [],
   "source": [
    "print(\"Cumulative Product:\", np.cumprod(x))\n",
    "print(\"Vertical Cumulative Product:\", np.cumprod(x, axis=0))\n",
    "print(\"Horizontal Cumulative Product:\", np.cumprod(x, axis=1))"
   ]
  },
  {
   "cell_type": "code",
   "execution_count": null,
   "metadata": {},
   "outputs": [],
   "source": [
    "print(\"Minimum:\", np.min(x))\n",
    "print(\"Vertical Minimum:\", np.min(x, axis=0))\n",
    "print(\"Horizontal Minimum:\", np.min(x, axis=1))"
   ]
  },
  {
   "cell_type": "code",
   "execution_count": null,
   "metadata": {},
   "outputs": [],
   "source": [
    "print(\"Maximum:\", np.max(x))\n",
    "print(\"Vertical Maximum:\", np.max(x, axis=0))\n",
    "print(\"Horizontal Maximum:\", np.max(x, axis=1))"
   ]
  },
  {
   "cell_type": "code",
   "execution_count": null,
   "metadata": {},
   "outputs": [],
   "source": [
    "print(\"Indices of minimum:\" , np.argmin(x))\n",
    "print(\"Indices of vertical minimum:\" , np.argmin(x, axis=0))\n",
    "print(\"Indices of horizontal minimum:\" , np.argmin(x, axis=1))"
   ]
  },
  {
   "cell_type": "code",
   "execution_count": null,
   "metadata": {},
   "outputs": [],
   "source": [
    "print(\"Indices of maximum:\" , np.argmax(x))\n",
    "print(\"Indices of vertical maximum:\" , np.argmax(x, axis=0))\n",
    "print(\"Indices of horizontal maximum:\" , np.argmax(x, axis=1))"
   ]
  },
  {
   "cell_type": "markdown",
   "metadata": {},
   "source": [
    "<hr style=\"border:2px solid #E1F6FF\"> </hr>"
   ]
  },
  {
   "cell_type": "markdown",
   "metadata": {},
   "source": [
    "## 2.9 Numpy - Dot Product and Matrix Multiplication"
   ]
  },
  {
   "cell_type": "markdown",
   "metadata": {},
   "source": [
    "<font size=\"3\">**There are multiple options for performing dot product or matrix multiplication:**</font>\n",
    "\n",
    "### <font color='Orange'> Element-wise Multiplication </font>\n",
    "> <font size=\"3\">**<span style=\"background-color: #ECECEC; color:#0047bb\">.multiply</span> <span style=\"background-color: #ECECEC; color:#0047bb\">*</span> - A fundamental approach uses element-wise multiplication.**</font>\n",
    "\n",
    "### <font color='Orange'> Dot Product </font>\n",
    "> <font size=\"3\">**<span style=\"background-color: #ECECEC; color:#0047bb\">.dot</span> - A dot product is the sum of products of values in two same-sized vectors.**</font>\n",
    "\n",
    "### <font color='Orange'> Matrix Multiplication </font>\n",
    "> <font size=\"3\">**<span style=\"background-color: #ECECEC; color:#0047bb\">.matmul</span> <span style=\"background-color: #ECECEC; color:#0047bb\">@</span> - A matrix multiplication is a matrix version of the dot product with two matrices.**</font>\n",
    "\n",
    "\n",
    "Reference: https://mkang32.github.io/python/2020/08/30/numpy-matmul.html"
   ]
  },
  {
   "cell_type": "markdown",
   "metadata": {},
   "source": [
    "### <font color='#176BEF'> Examples </font>\n",
    "<hr style=\"border:2px solid #E1F6FF\"> </hr>"
   ]
  },
  {
   "cell_type": "code",
   "execution_count": 20,
   "metadata": {},
   "outputs": [
    {
     "name": "stdout",
     "output_type": "stream",
     "text": [
      "Element-wise multiplication: [ 4 10 18]\n"
     ]
    }
   ],
   "source": [
    "import numpy as np\n",
    "x = np.array([1, 2, 3])\n",
    "y = np.array([4, 5, 6])\n",
    "print(\"Element-wise multiplication:\", x*y)"
   ]
  },
  {
   "cell_type": "code",
   "execution_count": 21,
   "metadata": {},
   "outputs": [
    {
     "name": "stdout",
     "output_type": "stream",
     "text": [
      "Dot Product: 32\n"
     ]
    }
   ],
   "source": [
    "x = np.array([1, 2, 3])\n",
    "y = np.array([4, 5, 6])\n",
    "print(\"Dot Product:\", np.dot(x,y))"
   ]
  },
  {
   "cell_type": "code",
   "execution_count": 22,
   "metadata": {},
   "outputs": [
    {
     "name": "stdout",
     "output_type": "stream",
     "text": [
      "Matrix Multiplication: 32\n"
     ]
    }
   ],
   "source": [
    "x = np.array([1, 2, 3])\n",
    "y = np.array([4, 5, 6])\n",
    "print(\"Matrix Multiplication:\", np.matmul(x,y))"
   ]
  },
  {
   "cell_type": "markdown",
   "metadata": {},
   "source": [
    "<font size=\"5\"><span style=\"background-color:#EA4335; color:white\">&nbsp;!&nbsp;</span></font> \n",
    "<font size=\"3\">**When we deal with multi-dimensional arrays (N-D arrays with N>2),  <span style=\"background-color: #ECECEC; color:#0047bb\">.dot</span> and <span style=\"background-color: #ECECEC; color:#0047bb\">.matmul</span> provides different results.**</font>"
   ]
  },
  {
   "cell_type": "code",
   "execution_count": 23,
   "metadata": {},
   "outputs": [
    {
     "name": "stdout",
     "output_type": "stream",
     "text": [
      "(2, 2, 2)\n",
      "(2, 2, 2)\n"
     ]
    }
   ],
   "source": [
    "x = np.array([[[1, 2], [3, 4]], [[1, 2], [3, 4]]])\n",
    "print(x.shape)\n",
    "y = np.array([[[1, 2], [3, 4]], [[1, 2], [3, 4]]])\n",
    "print(y.shape)"
   ]
  },
  {
   "cell_type": "code",
   "execution_count": 24,
   "metadata": {},
   "outputs": [
    {
     "name": "stdout",
     "output_type": "stream",
     "text": [
      "[[[[ 7 10]\n",
      "   [ 7 10]]\n",
      "\n",
      "  [[15 22]\n",
      "   [15 22]]]\n",
      "\n",
      "\n",
      " [[[ 7 10]\n",
      "   [ 7 10]]\n",
      "\n",
      "  [[15 22]\n",
      "   [15 22]]]] (2, 2, 2, 2)\n"
     ]
    }
   ],
   "source": [
    "z_dot = np.dot(x,y)\n",
    "print(z_dot, z_dot.shape)"
   ]
  },
  {
   "cell_type": "markdown",
   "metadata": {},
   "source": [
    "<font size=\"3\">**If x is an N-D array and y is an M-D array (where M>=2), <span style=\"background-color: #ECECEC; color:#0047bb\">.dot</span> is a sum product over the last axis of x and the second-to-last axis of y.**</font>\n",
    "\n",
    "> <font size=\"3\">**dot(x, y)[i, j, k, m] = sum(x[i, j, :] * y[k, :, m])**</font>"
   ]
  },
  {
   "cell_type": "code",
   "execution_count": 25,
   "metadata": {},
   "outputs": [
    {
     "name": "stdout",
     "output_type": "stream",
     "text": [
      "[[[ 7 10]\n",
      "  [15 22]]\n",
      "\n",
      " [[ 7 10]\n",
      "  [15 22]]] (2, 2, 2)\n"
     ]
    }
   ],
   "source": [
    "z_mat = np.matmul(x,y)\n",
    "print(z_mat, z_mat.shape)"
   ]
  },
  {
   "cell_type": "markdown",
   "metadata": {},
   "source": [
    "<font size=\"3\">**<span style=\"background-color: #ECECEC; color:#0047bb\">.matmul</span> function broadcasts the array like a stack of matrices as elements residing in the last two indexes respectively.**</font> "
   ]
  },
  {
   "cell_type": "code",
   "execution_count": null,
   "metadata": {},
   "outputs": [],
   "source": []
  }
 ],
 "metadata": {
  "kernelspec": {
   "display_name": "Python 3 (ipykernel)",
   "language": "python",
   "name": "python3"
  },
  "language_info": {
   "codemirror_mode": {
    "name": "ipython",
    "version": 3
   },
   "file_extension": ".py",
   "mimetype": "text/x-python",
   "name": "python",
   "nbconvert_exporter": "python",
   "pygments_lexer": "ipython3",
   "version": "3.8.8"
  }
 },
 "nbformat": 4,
 "nbformat_minor": 2
}
