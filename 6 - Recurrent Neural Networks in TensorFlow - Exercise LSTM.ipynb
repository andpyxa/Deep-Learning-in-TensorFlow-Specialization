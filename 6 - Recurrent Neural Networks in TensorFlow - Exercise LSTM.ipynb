{
 "cells": [
  {
   "cell_type": "markdown",
   "metadata": {},
   "source": [
    "<img src=\"https://firebasestorage.googleapis.com/v0/b/deep-learning-crash-course.appspot.com/o/Logo.png?alt=media&token=06318ee3-d7a0-44a0-97ae-2c95f110e3ac\" width=\"100\" height=\"100\" align=\"right\"/>"
   ]
  },
  {
   "cell_type": "markdown",
   "metadata": {},
   "source": [
    "## 6 Recurrent Neural Networks in TensorFlow - Exercise LSTM"
   ]
  },
  {
   "cell_type": "markdown",
   "metadata": {},
   "source": [
    "<img src=\"https://firebasestorage.googleapis.com/v0/b/deep-learning-crash-course.appspot.com/o/6RNN17.png?alt=media&token=cc9fd94a-42c2-4ee5-a325-3200680f5f56\" width=\"500\" align=\"center\"/>\n"
   ]
  },
  {
   "cell_type": "markdown",
   "metadata": {},
   "source": [
    "## Built-in LSTM Layers"
   ]
  },
  {
   "cell_type": "markdown",
   "metadata": {},
   "source": [
    "<img src=\"https://firebasestorage.googleapis.com/v0/b/deep-learning-crash-course.appspot.com/o/1Keras.png?alt=media&token=9f4add09-14d3-49ed-bc11-f0497f6e96f1\" width=\"200\" height=\"200\" align=\"right\"/>"
   ]
  },
  {
   "cell_type": "markdown",
   "metadata": {},
   "source": [
    "<font size=\"3\">**There are three built-in RNN layers in Keras:**</font>\n",
    "\n",
    "> <font size=\"3\">**<span style=\"background-color: #ECECEC; color:#0047bb\">keras.layers.RNN</span>**</font>\n",
    "\n",
    "> <font size=\"3\">**<span style=\"background-color: #ECECEC; color:#0047bb\">keras.layers.LSTM</span>**</font> \n",
    "\n",
    "> <font size=\"3\">**<span style=\"background-color: #ECECEC; color:#0047bb\">keras.layers.GRU</span>, a variant on LSTM**</font>   \n",
    "\n",
    "Reference:<br>\n",
    "https://arxiv.org/abs/1406.1078 <br>\n",
    "https://www.bioinf.jku.at/publications/older/2604.pdf"
   ]
  },
  {
   "cell_type": "markdown",
   "metadata": {},
   "source": [
    "### <font color='#176BEF'> Examples </font>\n",
    "<hr style=\"border:2px solid #E1F6FF\"> </hr>"
   ]
  },
  {
   "cell_type": "markdown",
   "metadata": {},
   "source": [
    "### <font color='#34A853'>Import libraries</font>\n",
    "<hr style=\"border:2px solid ##34A853\"> </hr>\n",
    "\n",
    "><font size=\"3\">**Sequential model**</font> \n",
    "\n",
    "><font size=\"3\">**Layers LSTM** - for LSTM</font>\n",
    "\n",
    "><font size=\"3\">**Layers Dense** - for image classification</font>\n",
    "\n",
    "><font size=\"3\">**Mnist dataset** - the dataset contains 60,000 training and 10,000 test handwritten digits in 10 classes</font>"
   ]
  },
  {
   "cell_type": "code",
   "execution_count": 1,
   "metadata": {},
   "outputs": [],
   "source": [
    "import tensorflow as tf\n",
    "from tensorflow.keras.models import Sequential\n",
    "from tensorflow.keras.layers import LSTM, Dense\n",
    "from tensorflow.keras import datasets\n",
    "\n",
    "import numpy as np\n",
    "import matplotlib.pyplot as plt"
   ]
  },
  {
   "cell_type": "markdown",
   "metadata": {},
   "source": [
    "### <font color='#34A853'>Import images from CIFAR10 dataset</font>\n",
    "<hr style=\"border:2px solid ##34A853\"> </hr>\n",
    "\n",
    "<font size=\"3\">**The MNIST database of handwritten digits, available from this page, has a training set of 60,000 examples, and a test set of 10,000 examples.**</font>\n",
    "\n",
    "<font size=\"3\">**The classes are completely mutually exclusive. Here are the classes in the dataset:**</font>\n",
    "\n",
    "\n",
    "<table align=\"left\">\n",
    "    <tr>\n",
    "        <td><b>Label</b></td>\n",
    "        <td><b>Description</b></td>\n",
    "    </tr>\n",
    "    <tr>\n",
    "        <td>0</td>\n",
    "        <td>Zero</td>\n",
    "    </tr>\n",
    "    <tr>\n",
    "        <td>1</td>\n",
    "        <td>One</td>\n",
    "    </tr>\n",
    "    <tr>\n",
    "        <td>2</td>\n",
    "        <td>Two</td>\n",
    "    </tr>\n",
    "    <tr>\n",
    "        <td>3</td>\n",
    "        <td>Three</td>\n",
    "    </tr>\n",
    "    <tr>\n",
    "        <td>4</td>\n",
    "        <td>Four</td>\n",
    "    </tr>\n",
    "    <tr>\n",
    "        <td>5</td>\n",
    "        <td>Five</td>\n",
    "    </tr>\n",
    "    <tr>\n",
    "        <td>6</td>\n",
    "        <td>Six</td>\n",
    "    </tr>\n",
    "    <tr>\n",
    "        <td>7</td>\n",
    "        <td>Seven</td>\n",
    "    </tr>\n",
    "    <tr>\n",
    "        <td>8</td>\n",
    "        <td>Eight</td>\n",
    "    </tr>\n",
    "    <tr>\n",
    "        <td>9</td>\n",
    "        <td>Nine</td>\n",
    "    </tr>\n",
    "</table>"
   ]
  },
  {
   "cell_type": "markdown",
   "metadata": {},
   "source": [
    "Reference: http://yann.lecun.com/exdb/mnist/"
   ]
  },
  {
   "cell_type": "code",
   "execution_count": 2,
   "metadata": {},
   "outputs": [],
   "source": [
    "(train_images, train_labels), (test_images, test_labels) = datasets.mnist.load_data()"
   ]
  },
  {
   "cell_type": "markdown",
   "metadata": {},
   "source": [
    "### <font color='#34A853'>Preprocess the data - Normalization</font>\n",
    "<hr style=\"border:2px solid ##34A853\"> </hr>"
   ]
  },
  {
   "cell_type": "markdown",
   "metadata": {},
   "source": [
    "<font size=\"3\">**The images are stored in 28x28 numpy arrays, with pixel values ranging from 0 to 255. Therefore, value 255 is used to normalize pixel values to be between 0 and 1.**</font>   "
   ]
  },
  {
   "cell_type": "code",
   "execution_count": 3,
   "metadata": {},
   "outputs": [],
   "source": [
    "train_images, test_images = train_images / 255.0, test_images / 255.0"
   ]
  },
  {
   "cell_type": "markdown",
   "metadata": {},
   "source": [
    "<font size=\"3\">**The labels are an array of integers, ranging from 0 to 9. Their corresponding class names can be stored in a list.**</font>   "
   ]
  },
  {
   "cell_type": "code",
   "execution_count": 4,
   "metadata": {},
   "outputs": [],
   "source": [
    "class_names = ['Zero', \n",
    "               'One', \n",
    "               'Two', \n",
    "               'Three', \n",
    "               'Four',\n",
    "               'Five', \n",
    "               'Six', \n",
    "               'Seven', \n",
    "               'Eight', \n",
    "               'Nine']"
   ]
  },
  {
   "cell_type": "markdown",
   "metadata": {},
   "source": [
    "### <font color='#34A853'>Explore the data</font>\n",
    "<hr style=\"border:2px solid ##34A853\"> </hr>"
   ]
  },
  {
   "cell_type": "markdown",
   "metadata": {},
   "source": [
    "<font size=\"3\">**Shapes of training and test images**</font>"
   ]
  },
  {
   "cell_type": "code",
   "execution_count": 5,
   "metadata": {},
   "outputs": [
    {
     "name": "stdout",
     "output_type": "stream",
     "text": [
      "The shape of training images is: (60000, 28, 28)\n",
      "The shape of training labels is: (60000,)\n"
     ]
    }
   ],
   "source": [
    "print(\"The shape of training images is:\", train_images.shape)\n",
    "print(\"The shape of training labels is:\", train_labels.shape)"
   ]
  },
  {
   "cell_type": "code",
   "execution_count": 6,
   "metadata": {},
   "outputs": [
    {
     "name": "stdout",
     "output_type": "stream",
     "text": [
      "The shape of test images is: (10000, 28, 28)\n",
      "The shape of test labels is: (10000,)\n"
     ]
    }
   ],
   "source": [
    "print(\"The shape of test images is:\", test_images.shape)\n",
    "print(\"The shape of test labels is:\", test_labels.shape)"
   ]
  },
  {
   "cell_type": "markdown",
   "metadata": {},
   "source": [
    "<font size=\"3\">**Label values**</font>"
   ]
  },
  {
   "cell_type": "code",
   "execution_count": 7,
   "metadata": {},
   "outputs": [
    {
     "name": "stdout",
     "output_type": "stream",
     "text": [
      "The label values range from: 0 to 9\n"
     ]
    }
   ],
   "source": [
    "print(\"The label values range from:\", np.min(train_labels), \"to\" ,np.max(train_labels))"
   ]
  },
  {
   "cell_type": "markdown",
   "metadata": {},
   "source": [
    "<font size=\"3\">**Pixel values**</font>"
   ]
  },
  {
   "cell_type": "code",
   "execution_count": 8,
   "metadata": {},
   "outputs": [
    {
     "name": "stdout",
     "output_type": "stream",
     "text": [
      "The pixel values range from: 0.0 to 1.0\n"
     ]
    },
    {
     "data": {
      "image/png": "[encoded data removed]",
      "text/plain": [
       "<Figure size 1224x576 with 32 Axes>"
      ]
     },
     "metadata": {},
     "output_type": "display_data"
    }
   ],
   "source": [
    "print(\"The pixel values range from:\", np.min(train_images), \"to\" ,np.max(train_images))\n",
    "\n",
    "plt.figure(figsize=(17,8))\n",
    "for i in range(32):\n",
    "    plt.subplot(4,8,i+1)\n",
    "    plt.xticks([])\n",
    "    plt.yticks([])\n",
    "    plt.imshow(train_images[i], cmap=plt.cm.binary)\n",
    "    plt.xlabel(class_names[train_labels[i]])\n",
    "plt.show()"
   ]
  },
  {
   "cell_type": "markdown",
   "metadata": {},
   "source": [
    "### <font color='#34A853'>Build the model</font>\n",
    "<hr style=\"border:2px solid ##34A853\"> </hr>"
   ]
  },
  {
   "cell_type": "markdown",
   "metadata": {},
   "source": [
    "### <font color='Orange'>*1) Setup and configure a Sequential model*</font>"
   ]
  },
  {
   "cell_type": "markdown",
   "metadata": {},
   "source": [
    "<font size=\"3\">**<span style=\"color:#4285F4\">1<sup>st</sup></span> and <span style=\"color:#4285F4\">2<sup>nd</sup></span> layers:**</font>\n",
    "> <font size=\"3\">**The recurrent neural network consists of a sequence of one <span style=\"background-color: #ECECEC; color:#0047bb\">tf.keras.layers.LSTM</span> layer and one <span style=\"background-color: #ECECEC; color:#0047bb\">tf.keras.layers.Dense</span> layer. These layers are densely connected or fully connected.**</font>\n",
    "\n",
    "> <font size=\"3\">**The 1<sup>st</sup> layer has 100 units.**</font>\n",
    "\n",
    "> <font size=\"3\">**The 2<sup>nd</sup> layer has 10 nodes (or neurons) which returns a logits array with length of 10. Each node contains a score that indicates the current image belongs to one of the 10 classes.**</font> "
   ]
  },
  {
   "cell_type": "code",
   "execution_count": 9,
   "metadata": {},
   "outputs": [],
   "source": [
    "model = Sequential()\n",
    "model.add(LSTM(100, input_shape=(28,28)))\n",
    "model.add(Dense(10, activation ='softmax'))"
   ]
  },
  {
   "cell_type": "markdown",
   "metadata": {},
   "source": [
    "<font size=\"3\">**Here's the complete architecture:**</font><br>"
   ]
  },
  {
   "cell_type": "code",
   "execution_count": 10,
   "metadata": {},
   "outputs": [
    {
     "name": "stdout",
     "output_type": "stream",
     "text": [
      "Model: \"sequential\"\n",
      "_________________________________________________________________\n",
      "Layer (type)                 Output Shape              Param #   \n",
      "=================================================================\n",
      "lstm (LSTM)                  (None, 100)               51600     \n",
      "_________________________________________________________________\n",
      "dense (Dense)                (None, 10)                1010      \n",
      "=================================================================\n",
      "Total params: 52,610\n",
      "Trainable params: 52,610\n",
      "Non-trainable params: 0\n",
      "_________________________________________________________________\n"
     ]
    }
   ],
   "source": [
    "model.summary()"
   ]
  },
  {
   "cell_type": "markdown",
   "metadata": {},
   "source": [
    "### <font color='Orange'>*2) Compile the model*</font>"
   ]
  },
  {
   "cell_type": "code",
   "execution_count": 11,
   "metadata": {},
   "outputs": [],
   "source": [
    "model.compile(optimizer='adam',\n",
    "              loss=tf.keras.losses.SparseCategoricalCrossentropy(from_logits=False),\n",
    "              metrics=['accuracy'])"
   ]
  },
  {
   "cell_type": "markdown",
   "metadata": {},
   "source": [
    "<font size=\"3\">**<span style=\"color:#4285F4\">SparseCategoricalCrossentropy</span> and <span style=\"color:#4285F4\">CategoricalCrossentropy</span> both compute categorical cross-entropy. The only difference is in how the targets/labels should be encoded.**</font>\n",
    "\n",
    "> <font size=\"3\">**For <span style=\"color:#4285F4\">one hot</span> representation, <span style=\"color:#4285F4\">CatergoricalCrossentropy</span> can be used.**</font>\n",
    "\n",
    "> <font size=\"3\">**For labels as integers (i.e. 0, 1, 2), <span style=\"color:#4285F4\">SparseCategoricalCrossentropy</span> can be used.**</font>"
   ]
  },
  {
   "cell_type": "markdown",
   "metadata": {},
   "source": [
    "<font size=\"3\">**<span style=\"background-color: #ECECEC; color:#0047bb\">from_logits</span> argument informs the loss function whether the output is expected to be a logits tensor (i.e. normalized).**</font>\n",
    "\n",
    "><font size=\"3\">**By default, <span style=\"background-color: #ECECEC; color:#0047bb\">from_logits</span> is <span style=\"color:#4285F4\">False </span> which assumes that output encodes a probability distribution, such as outputs from softmax and sigmoid activations.**</font>\n",
    "\n",
    "><font size=\"3\">**If <span style=\"background-color: #ECECEC; color:#0047bb\">from_logits</span> is <span style=\"color:#4285F4\">True</span>, this assumes that output is a logits. In this case, softmax or sigmoid activations will automatically applied on the output values by the loss function. Hence, output layer doesn't need any probabilistic activation function.**</font>"
   ]
  },
  {
   "cell_type": "markdown",
   "metadata": {},
   "source": [
    "<font size=\"5\"><span style=\"background-color:#EA4335; color:white\">&nbsp;!&nbsp;</span></font> <font size=\"3\">**Remark: If <span style=\"background-color: #ECECEC; color:#0047bb\">from_logits</span> is <span style=\"color:#4285F4\">True</span>, no activation function is needed in the output layer, e.g.**</font>"
   ]
  },
  {
   "cell_type": "markdown",
   "metadata": {},
   "source": [
    "<img src=\"https://firebasestorage.googleapis.com/v0/b/deep-learning-crash-course.appspot.com/o/3NNExercise2.png?alt=media&token=d053ce8a-8ccb-4087-a198-a19ced62e298\" width=\"2000\"/>"
   ]
  },
  {
   "cell_type": "markdown",
   "metadata": {},
   "source": [
    "### <font color='#34A853'>Train the model</font>\n",
    "<hr style=\"border:2px solid ##34A853\"> </hr>"
   ]
  },
  {
   "cell_type": "markdown",
   "metadata": {},
   "source": [
    "### <font color='Orange'>*1) Feed the model*</font>"
   ]
  },
  {
   "cell_type": "code",
   "execution_count": 12,
   "metadata": {},
   "outputs": [
    {
     "name": "stdout",
     "output_type": "stream",
     "text": [
      "Epoch 1/10\n",
      "1875/1875 [==============================] - 36s 19ms/step - loss: 0.3544 - accuracy: 0.8860 - val_loss: 0.1330 - val_accuracy: 0.9585\n",
      "Epoch 2/10\n",
      "1875/1875 [==============================] - 30s 16ms/step - loss: 0.1140 - accuracy: 0.9663 - val_loss: 0.0985 - val_accuracy: 0.9682\n",
      "Epoch 3/10\n",
      "1875/1875 [==============================] - 30s 16ms/step - loss: 0.0780 - accuracy: 0.9764 - val_loss: 0.0866 - val_accuracy: 0.9743\n",
      "Epoch 4/10\n",
      "1875/1875 [==============================] - 31s 16ms/step - loss: 0.0609 - accuracy: 0.9814 - val_loss: 0.0620 - val_accuracy: 0.9805\n",
      "Epoch 5/10\n",
      "1875/1875 [==============================] - 30s 16ms/step - loss: 0.0485 - accuracy: 0.9853 - val_loss: 0.0521 - val_accuracy: 0.9843\n",
      "Epoch 6/10\n",
      "1875/1875 [==============================] - 44s 23ms/step - loss: 0.0411 - accuracy: 0.9873 - val_loss: 0.0535 - val_accuracy: 0.9837\n",
      "Epoch 7/10\n",
      "1875/1875 [==============================] - 30s 16ms/step - loss: 0.0375 - accuracy: 0.9886 - val_loss: 0.0487 - val_accuracy: 0.9846\n",
      "Epoch 8/10\n",
      "1875/1875 [==============================] - 31s 17ms/step - loss: 0.0310 - accuracy: 0.9904 - val_loss: 0.0455 - val_accuracy: 0.9862\n",
      "Epoch 9/10\n",
      "1875/1875 [==============================] - 30s 16ms/step - loss: 0.0266 - accuracy: 0.9917 - val_loss: 0.0487 - val_accuracy: 0.9863\n",
      "Epoch 10/10\n",
      "1875/1875 [==============================] - 36s 19ms/step - loss: 0.0241 - accuracy: 0.9927 - val_loss: 0.0486 - val_accuracy: 0.9855\n"
     ]
    }
   ],
   "source": [
    "history = model.fit(train_images, train_labels, epochs=10, \n",
    "                    validation_data=(test_images, test_labels))"
   ]
  },
  {
   "cell_type": "markdown",
   "metadata": {},
   "source": [
    "<font size=\"3\">**To start training, <span style=\"background-color: #ECECEC; color:#0047bb\">model.fit()</span> method can be used to \"fit\" the model with training data. In this example, the training data is in the <span style=\"color:#4285F4\">train_images</span> and <span style=\"color:#4285F4\">train_labels</span> arrays.**</font>\n",
    "\n",
    "<font size=\"3\">***Training accuracy***</font>\n",
    "> <font size=\"3\">**With slight modification from <span style=\"color:#4285F4\">recurrent neural network</span> to <span style=\"color:#4285F4\">LSTM</span>, as the model trains, the loss and accuracy metrics are improving. After 10 epochs, this model reaches an accuracy of about 0.99 (99%) on training data.**</font><br>\n",
    "\n",
    "> <font size=\"3\">**This improvement is mainly due to the fact that LSTM help avoid the vanishing gradient problems.**</font><br>"
   ]
  },
  {
   "cell_type": "code",
   "execution_count": 13,
   "metadata": {},
   "outputs": [
    {
     "data": {
      "text/plain": [
       "<matplotlib.legend.Legend at 0x1ae795e5970>"
      ]
     },
     "execution_count": 13,
     "metadata": {},
     "output_type": "execute_result"
    },
    {
     "data": {
      "image/png": "[encoded data removed]",
      "text/plain": [
       "<Figure size 432x288 with 1 Axes>"
      ]
     },
     "metadata": {
      "needs_background": "light"
     },
     "output_type": "display_data"
    }
   ],
   "source": [
    "plt.plot(history.history['accuracy'], label='Accuracy')\n",
    "plt.plot(history.history['val_accuracy'], label = 'Validation accuracy')\n",
    "plt.xlabel('Epoch')\n",
    "plt.ylabel('Accuracy')\n",
    "plt.ylim([0.75, 1])\n",
    "plt.legend(loc='lower right')"
   ]
  },
  {
   "cell_type": "code",
   "execution_count": 14,
   "metadata": {},
   "outputs": [
    {
     "name": "stdout",
     "output_type": "stream",
     "text": [
      "313/313 - 3s - loss: 0.0486 - accuracy: 0.9855\n",
      "Test accuracy: 99 %\n"
     ]
    }
   ],
   "source": [
    "test_loss, test_acc = model.evaluate(test_images,  test_labels, verbose=2)\n",
    "\n",
    "print('Test accuracy:', round(test_acc*100), '%')"
   ]
  },
  {
   "cell_type": "markdown",
   "metadata": {},
   "source": [
    "<font size=\"3\">***Test accuracy***</font>\n",
    "> <font size=\"3\">**It turns out this LSTM has achieved a test accuracy of around 99%.**</font>"
   ]
  },
  {
   "cell_type": "markdown",
   "metadata": {},
   "source": [
    "### <font color='Orange'>*3) Verify and visualize predictions*</font>"
   ]
  },
  {
   "cell_type": "markdown",
   "metadata": {},
   "source": [
    "<font size=\"3\">**With trained network, it can be used to make predictions.**</font>\n",
    "<font size=\"3\">**Let's predict 16 images. Correct prediction labels are blue and incorrect prediction labels are red. The number indicates the precentage (i.e. confidence) for the predicted label.**</font>"
   ]
  },
  {
   "cell_type": "code",
   "execution_count": 15,
   "metadata": {
    "scrolled": false
   },
   "outputs": [
    {
     "data": {
      "image/png": "[encoded data removed]",
      "text/plain": [
       "<Figure size 1224x576 with 32 Axes>"
      ]
     },
     "metadata": {
      "needs_background": "light"
     },
     "output_type": "display_data"
    }
   ],
   "source": [
    "predictions = model.predict(test_images)\n",
    "\n",
    "plt.figure(figsize=(17,8))\n",
    "\n",
    "for i in range(16):\n",
    "    plt.subplot(4,8,2*i+1)\n",
    "    plt.xticks([])\n",
    "    plt.yticks([])\n",
    "    if np.argmax(predictions[i]) == test_labels[i]:\n",
    "        color = 'blue'\n",
    "    else:\n",
    "        color = 'red'\n",
    "    plt.imshow(test_images[i], cmap=plt.cm.binary)\n",
    "    plt.xlabel(\"{} {:2.0f}% ({})\".format(class_names[np.argmax(predictions[i])],\n",
    "                                100*np.max(predictions[i]),\n",
    "                                class_names[test_labels[i]]),\n",
    "                                color=color)\n",
    "    plt.subplot(4,8,2*i+2)\n",
    "    plt.xticks(range(10))\n",
    "    plt.yticks([])\n",
    "    thisplot = plt.bar(range(10), predictions[i], color=\"grey\")\n",
    "    plt.ylim([0, 1])  \n",
    "\n",
    "    thisplot[np.argmax(predictions[i])].set_color('red')\n",
    "    thisplot[test_labels[i]].set_color('blue')\n",
    "    \n",
    "plt.show()"
   ]
  },
  {
   "cell_type": "markdown",
   "metadata": {},
   "source": [
    "### <font color='#34A853'>Use the trained model</font>\n",
    "<hr style=\"border:2px solid ##34A853\"> </hr>"
   ]
  },
  {
   "cell_type": "markdown",
   "metadata": {},
   "source": [
    "<font size=\"3\">**Once the model is trained, images can be fed into the model for prediction.**</font>"
   ]
  },
  {
   "cell_type": "code",
   "execution_count": 16,
   "metadata": {},
   "outputs": [
    {
     "name": "stdout",
     "output_type": "stream",
     "text": [
      "(28, 28)\n"
     ]
    }
   ],
   "source": [
    "# Grab an image from the test dataset.\n",
    "img = test_images[50]\n",
    "print(img.shape)"
   ]
  },
  {
   "cell_type": "markdown",
   "metadata": {},
   "source": [
    "<font size=\"3\">**<span style=\"background-color: #ECECEC; color:#0047bb\">tf.keras</span> models are optimized to make predictions on a <span style=\"color:#4285F4\">batch</span>, or collection, of examples at once. Therefore, even this is a single image prediction, image needs to be add into a list and make it like a <span style=\"color:#4285F4\">batch</span>.**</font>\n",
    "\n",
    "<font size=\"3\">**<span style=\"background-color: #ECECEC; color:#0047bb\">np.expand_dims</span> function can help insert a new axis that will appear at the axis position in the expanded array shape.**</font>"
   ]
  },
  {
   "cell_type": "code",
   "execution_count": 17,
   "metadata": {},
   "outputs": [
    {
     "name": "stdout",
     "output_type": "stream",
     "text": [
      "(1, 28, 28)\n"
     ]
    }
   ],
   "source": [
    "# Add the image to a batch where it's the only member.\n",
    "img = (np.expand_dims(img,0))\n",
    "\n",
    "print(img.shape)"
   ]
  },
  {
   "cell_type": "markdown",
   "metadata": {},
   "source": [
    "<font size=\"3\">**Then, images can be fed into the model for prediction.**</font>"
   ]
  },
  {
   "cell_type": "code",
   "execution_count": 18,
   "metadata": {},
   "outputs": [
    {
     "name": "stdout",
     "output_type": "stream",
     "text": [
      "The highest confidence is: 6\n",
      "The predicted class is: Six\n"
     ]
    }
   ],
   "source": [
    "predictions_img = model.predict(img)\n",
    "\n",
    "max_confidence = np.argmax(predictions_img[0])\n",
    "\n",
    "print(\"The highest confidence is:\", max_confidence)\n",
    "print(\"The predicted class is:\", class_names[max_confidence])"
   ]
  },
  {
   "cell_type": "markdown",
   "metadata": {},
   "source": [
    "<font size=\"3\">**Let's visualize the results.**</font>"
   ]
  },
  {
   "cell_type": "code",
   "execution_count": 19,
   "metadata": {},
   "outputs": [
    {
     "data": {
      "image/png": "[encoded data removed]",
      "text/plain": [
       "<Figure size 864x288 with 2 Axes>"
      ]
     },
     "metadata": {
      "needs_background": "light"
     },
     "output_type": "display_data"
    }
   ],
   "source": [
    "plt.figure(figsize=(12,4))\n",
    "\n",
    "i=50\n",
    "plt.subplot(1,2,1)\n",
    "plt.xticks([])\n",
    "plt.yticks([])\n",
    "if np.argmax(predictions[i]) == test_labels[i]:\n",
    "    color = 'blue'\n",
    "else:\n",
    "    color = 'red'\n",
    "plt.imshow(test_images[i], cmap=plt.cm.binary)\n",
    "plt.xlabel(\"{} {:2.0f}% ({})\".format(class_names[np.argmax(predictions[i])],\n",
    "                            100*np.max(predictions[i]),\n",
    "                            class_names[test_labels[i]]),\n",
    "                            color=color)\n",
    "plt.subplot(1,2,2)\n",
    "plt.xticks(range(10), class_names, rotation=45)\n",
    "plt.yticks([])\n",
    "thisplot = plt.bar(range(10), predictions[i], color=\"grey\")\n",
    "plt.ylim([0, 1])  \n",
    "\n",
    "thisplot[np.argmax(predictions[i])].set_color('red')\n",
    "thisplot[test_labels[i]].set_color('blue')\n",
    "    \n",
    "plt.show()"
   ]
  },
  {
   "cell_type": "markdown",
   "metadata": {},
   "source": [
    "<font size=\"3\">**The model predicts the label correctly.**</font>"
   ]
  },
  {
   "cell_type": "markdown",
   "metadata": {},
   "source": [
    "<hr style=\"border:2px solid ##34A853\"> </hr>"
   ]
  },
  {
   "cell_type": "markdown",
   "metadata": {},
   "source": [
    "##### This exercise is revised based on the TensorFlow tutorial (Reference: https://www.tensorflow.org/guide/keras/rnn)."
   ]
  },
  {
   "cell_type": "code",
   "execution_count": null,
   "metadata": {},
   "outputs": [],
   "source": []
  }
 ],
 "metadata": {
  "kernelspec": {
   "display_name": "Python 3 (ipykernel)",
   "language": "python",
   "name": "python3"
  },
  "language_info": {
   "codemirror_mode": {
    "name": "ipython",
    "version": 3
   },
   "file_extension": ".py",
   "mimetype": "text/x-python",
   "name": "python",
   "nbconvert_exporter": "python",
   "pygments_lexer": "ipython3",
   "version": "3.8.8"
  }
 },
 "nbformat": 4,
 "nbformat_minor": 2
}
