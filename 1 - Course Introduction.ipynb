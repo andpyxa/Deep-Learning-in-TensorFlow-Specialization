{
 "cells": [
  {
   "cell_type": "markdown",
   "metadata": {},
   "source": [
    "<img src=\"https://firebasestorage.googleapis.com/v0/b/deep-learning-crash-course.appspot.com/o/Logo.png?alt=media&token=06318ee3-d7a0-44a0-97ae-2c95f110e3ac\" width=\"100\" height=\"100\" align=\"right\"/>"
   ]
  },
  {
   "cell_type": "markdown",
   "metadata": {},
   "source": [
    "# 1 Deep Learning in TensorFlow Specialization"
   ]
  },
  {
   "cell_type": "markdown",
   "metadata": {},
   "source": [
    "### <font color='Orange'> About this course </font>\n",
    "> <font size=\"3\">**This Specialization is a foundational program that will help you understand the capabilities, challenges, and consequences of deep learning and prepare you to participate in the development of leading-edge AI technology. This specialization will teach the most important and foundational principles of Machine Learning and Deep Learning.**</font>\n",
    "\n",
    "> <font size=\"3\">**This course is about Deep Learning in Tensorflow Specialization and will teach you the best practices for using TensorFlow, a popular open-source framework for deep learning.**</font> \n",
    "\n",
    "> <font size=\"3\">**In this Specialization, you will build and train neural network architectures with some hands-on projects, such as Vanilla Neural Networks, Convolutional Neural Networks, Recurrent Neural Networks, LSTMs, and learn the advance techniques on how to make them better with strategies.**</font>"
   ]
  },
  {
   "cell_type": "markdown",
   "metadata": {},
   "source": [
    "## 1.1 Introduction to TensorFlow \n",
    "<img src=\"https://firebasestorage.googleapis.com/v0/b/deep-learning-crash-course.appspot.com/o/1Tensorflow.png?alt=media&token=21906e75-16c0-4151-a7ba-3eb696606872\" width=\"200\" height=\"200\" align=\"right\"/>"
   ]
  },
  {
   "cell_type": "markdown",
   "metadata": {},
   "source": [
    "### <font color='Orange'> Why TensorFlow </font>\n",
    "> <font size=\"3\">**Whether you're an expert or a beginner, TensorFlow is an end-to-end platform that makes it easy for you to build and deploy ML models.**</font>\n",
    "\n",
    "### <font color='Orange'> Easy model building </font>\n",
    "> <font size=\"3\">**TensorFlow offers multiple levels of abstraction so you can choose the right one for your needs. Build and train models by using the high-level Keras API, which makes getting started with TensorFlow and machine learning easy.\n",
    "<br>\n",
    "<br>\n",
    "If you need more flexibility, eager execution allows for immediate iteration and intuitive debugging. For large ML training tasks, use the Distribution Strategy API for distributed training on different hardware configurations without changing the model definition.**</font>\n",
    "\n",
    "### <font color='Orange'> Robust ML production anywhere </font>\n",
    "> <font size=\"3\">**TensorFlow has always provided a direct path to production. Whether it's on servers, edge devices, or the web, TensorFlow lets you train and deploy your model easily, no matter what language or platform you use.\n",
    "<br>\n",
    "<br>\n",
    "Use TensorFlow Extended (TFX) if you need a full production ML pipeline. For running inference on mobile and edge devices, use TensorFlow Lite. Train and deploy models in JavaScript environments using TensorFlow.js.**</font>\n",
    "\n",
    "### <font color='Orange'> Powerful experimentation for research </font>\n",
    "> <font size=\"3\">**Build and train state-of-the-art models without sacrificing speed or performance. TensorFlow gives you the flexibility and control with features like the Keras Functional API and Model Subclassing API for creation of complex topologies. For easy prototyping and fast debugging, use eager execution.\n",
    "<br>\n",
    "<br>\n",
    "TensorFlow also supports an ecosystem of powerful add-on libraries and models to experiment with, including Ragged Tensors, TensorFlow Probability, Tensor2Tensor and BERT.**</font>\n",
    "\n",
    "Reference: https://www.tensorflow.org/about"
   ]
  },
  {
   "cell_type": "markdown",
   "metadata": {},
   "source": [
    "## 1.2 Introduction to Keras\n",
    "<img src=\"https://firebasestorage.googleapis.com/v0/b/deep-learning-crash-course.appspot.com/o/1Keras.png?alt=media&token=9f4add09-14d3-49ed-bc11-f0497f6e96f1\" width=\"200\" height=\"200\" align=\"right\"/>"
   ]
  },
  {
   "cell_type": "markdown",
   "metadata": {},
   "source": [
    "<font size=\"3\">**Keras is a deep learning API written in Python, running on top of the machine learning platform TensorFlow. It was developed with a focus on enabling fast experimentation. Being able to go from idea to result as fast as possible is key to doing good research.**</font>\n",
    "\n",
    "### <font color='Orange'> Simple </font>\n",
    "><font size=\"3\">**Keras is simple but not simplistic. Keras reduces developer cognitive load to free you to focus on the parts of the problem that really matter.**</font>\n",
    "\n",
    "### <font color='Orange'> Flexbile </font>\n",
    "><font size=\"3\">**Keras adopts the principle of progressive disclosure of complexity: simple workflows should be quick and easy, while arbitrarily advanced workflows should be possible via a clear path that builds upon what you've already learned.**</font>\n",
    "\n",
    "### <font color='Orange'> Powerful </font>\n",
    "><font size=\"3\">**Keras provides industry-strength performance and scalability: it is used by organizations and companies including NASA, YouTube, or Waymo.**</font>\n",
    "\n",
    "Reference: https://keras.io/about/"
   ]
  },
  {
   "cell_type": "markdown",
   "metadata": {},
   "source": [
    "## 1.3 TensorFlow 2 & Keras\n",
    "<img src=\"https://firebasestorage.googleapis.com/v0/b/deep-learning-crash-course.appspot.com/o/1TfplusKeras.png?alt=media&token=c40b9da2-3a2b-429c-978f-40846401f0f0\" width=\"400\" height=\"400\" align=\"center\"/>"
   ]
  },
  {
   "cell_type": "markdown",
   "metadata": {},
   "source": [
    "<font size=\"3\">**TensorFlow 2 is an end-to-end, open-source machine learning platform. You can think of it as an infrastructure layer for differentiable programming. It combines four key abilities:**</font>\n",
    "\n",
    "### <font color='Orange'> Efficiency </font>\n",
    "><font size=\"3\">**Efficiently executing low-level tensor operations on CPU, GPU, or TPU.**</font>\n",
    "<br>\n",
    "### <font color='Orange'> Flexibility </font>\n",
    "><font size=\"3\">**Computing the gradient of arbitrary differentiable expressions.**</font>\n",
    "<br>\n",
    "### <font color='Orange'> Scalability </font>\n",
    "><font size=\"3\">**Scaling computation to many devices, such as clusters of hundreds of GPUs.**</font>\n",
    "<br>\n",
    "### <font color='Orange'> Portability </font>\n",
    "><font size=\"3\">**Exporting programs (\"graphs\") to external runtimes such as servers, browsers, mobile and embedded devices.**</font>\n",
    "\n",
    "<font size=\"3\">**Keras is the high-level API of TensorFlow 2: an approachable, highly-productive interface for solving machine learning problems, with a focus on modern deep learning. It provides essential abstractions and building blocks for developing and shipping machine learning solutions with high iteration velocity.**</font>\n",
    "\n",
    "<font size=\"3\">**Keras empowers engineers and researchers to take full advantage of the scalability and cross-platform capabilities of TensorFlow 2: you can run Keras on TPU or on large clusters of GPUs, and you can export your Keras models to run in the browser or on a mobile device.**</font>\n",
    "\n",
    "Reference: https://keras.io/about/"
   ]
  },
  {
   "cell_type": "markdown",
   "metadata": {},
   "source": [
    "## 1.4 Syllabus - What you will learn from this course"
   ]
  },
  {
   "cell_type": "markdown",
   "metadata": {},
   "source": [
    "### <font color='Orange'> Course 1 </font>\n",
    "><font size=\"3\">**Numpy Basics**</font>\n",
    "<br>\n",
    "<br>\n",
    "><font size=\"3\">In the first course of the Deep Learning Specialization, you will first learn the basic of Tensors and Numpy.\n",
    "<br>\n",
    "<br>\n",
    "By the end, you will be familiar with Tensors, Numpy and the basics operations of Numpy.  \n",
    "</font>"
   ]
  },
  {
   "cell_type": "markdown",
   "metadata": {},
   "source": [
    "### <font color='Orange'> Course 2 </font>\n",
    "><font size=\"3\">**Neural Networks in TensorFlow**</font>\n",
    "<br>\n",
    "<br>\n",
    "><font size=\"3\">In the second course of the Deep Learning Specialization, you will explore the deep learning tool - TensorFlow and learn how to build a neural network.\n",
    "<br>\n",
    "<br>\n",
    "By the end, you will be able to understand the best practices to train, test and evaluate a machine learning model; be able to use standard neural network techniques; and implement a neural network in TensorFlow.\n",
    "</font>\n",
    "\n",
    "><font size=\"3\">**Hands-on Project** - In the second course, you will also complete an Image Classification.</font>"
   ]
  },
  {
   "cell_type": "markdown",
   "metadata": {},
   "source": [
    "### <font color='Orange'> Course 3 </font>\n",
    "><font size=\"3\">**Neural Networks in TensorFlow - Advanced Techniques**</font>\n",
    "<br>\n",
    "<br>\n",
    "><font size=\"3\">In the third course of the Deep Learning Specialization, you will learn how to build a successful Neural Network model with different advanced techniques.\n",
    "<br>\n",
    "<br>\n",
    "By the end, you will be able to apply some advanced techniques to construct a neural network, such as hyperparameter tuning of compile, fit, evaluate and predict functions as well as dense layer settings; and implement these techniques in TensorFlow. In addition, you will also become familiar with some advanced pratical skills such as Callback and TensorBoard. \n",
    "</font>"
   ]
  },
  {
   "cell_type": "markdown",
   "metadata": {},
   "source": [
    "### <font color='Orange'> Course 4 </font>\n",
    "><font size=\"3\">**Convolutional Neural Networks in TensorFlow**</font>\n",
    "<br>\n",
    "<br>\n",
    "><font size=\"3\">In the fourth course of the Deep Learning Specialization, you will explore the evolution of computer vision and  learn how to build a Convolutional Neural Network in Tensorflow. \n",
    "<br>\n",
    "<br>\n",
    "By the end, you will be able to use standard techniques, such as Convolutional Layer, Pooling Layer, Flatten, Dense Layer and Dropout; and implment it in TensorFlow. \n",
    "</font>"
   ]
  },
  {
   "cell_type": "markdown",
   "metadata": {},
   "source": [
    "### <font color='Orange'> Course 5 </font>\n",
    "><font size=\"3\">**Recurrent Neural Networks in TensorFlow**</font>\n",
    "<br>\n",
    "<br>\n",
    "><font size=\"3\">In the fifth course of the Deep Learning Specialization, you will understand time series and text processing, and how Recurrent Neural Networks generates good results systematically.\n",
    "<br>\n",
    "<br>\n",
    "By the end, you will learn some basics techniques of time series processing and natual language processing (NLP); and learn how to apply Recurrent Neural Networks and its other versions - Long Short Term Memory (LSTM) and Gate Recurrent Unit (GRU) in TensorFlow. \n",
    "</font>\n",
    "\n",
    "><font size=\"3\">**Hands-on Project** - In the fifth course, you will also develop a LSTM model for image classification.</font>"
   ]
  },
  {
   "cell_type": "markdown",
   "metadata": {},
   "source": [
    "### <font color='Orange'> Course 6 </font>\n",
    "><font size=\"3\">**Keras Functional API**</font>\n",
    "<br>\n",
    "<br>\n",
    "><font size=\"3\">In the sixth course of the Deep Learning Specialization, you will explore Keras Functional API. \n",
    "<br>\n",
    "<br>\n",
    "By the end, you will be able to understand multiple input model, multiple output model and their implementations with the use of Keras Functional API in TensorFlow. \n",
    "</font>\n",
    "\n",
    "><font size=\"3\">**Hands-on Project** - In the sixth course, you will also implement a ResNet model for image classification.</font>"
   ]
  },
  {
   "cell_type": "code",
   "execution_count": null,
   "metadata": {},
   "outputs": [],
   "source": []
  }
 ],
 "metadata": {
  "kernelspec": {
   "display_name": "Python 3 (ipykernel)",
   "language": "python",
   "name": "python3"
  },
  "language_info": {
   "codemirror_mode": {
    "name": "ipython",
    "version": 3
   },
   "file_extension": ".py",
   "mimetype": "text/x-python",
   "name": "python",
   "nbconvert_exporter": "python",
   "pygments_lexer": "ipython3",
   "version": "3.8.8"
  }
 },
 "nbformat": 4,
 "nbformat_minor": 2
}
